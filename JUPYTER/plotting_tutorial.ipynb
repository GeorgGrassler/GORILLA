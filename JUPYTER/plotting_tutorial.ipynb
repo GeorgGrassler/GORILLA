{
 "cells": [
  {
   "cell_type": "markdown",
   "metadata": {},
   "source": [
    "# GORILLA plotting tutorial"
   ]
  },
  {
   "cell_type": "markdown",
   "metadata": {},
   "source": [
    "With the plotting option of GORILLA it is possible to compute and plot the orbit of a particle in a toroidal magnetic fusion device. For the visualization of the orbit, Poincare plots are used. The program also computes various constants of motion to check how the obtained results behave with respect to numerical accuracy.  \n",
    "\n",
    "This tutorial guides through different input options of the code and shows a way how to execute the code with PYTHON. In principle one could change the repective options in the namelist-files like 'gorilla.inp' or 'tetra_grid.inp' per hand and then start the main executable 'test_gorilla-main.x'. However, here we will show how one can instead control these options dynamically in a PYTHON script using the the *f90nml*-namelist package."
   ]
  },
  {
   "cell_type": "markdown",
   "metadata": {},
   "source": [
    "***\n",
    "\n",
    "## Preliminary: Using *f90nml* and *os* to alter namelists"
   ]
  },
  {
   "cell_type": "markdown",
   "metadata": {},
   "source": [
    "First we load the *f90nml* package after installing it e.g. using pip. Additionally we load the default module *os* (this is used to execute shell commands in PYTHON such as getting the current working directory path, creating folders and starting the main executable of GORILLA). We want to note that the default module *subprocess* is general considered preferable to *os*. However, for our very limited interaction with the operating system, *os* completly suffices."
   ]
  },
  {
   "cell_type": "code",
   "execution_count": 343,
   "metadata": {},
   "outputs": [
    {
     "name": "stdout",
     "output_type": "stream",
     "text": [
      "/afs/itp.tugraz.at/user/grassl_g/MT/GORILLA/JUPYTER\n"
     ]
    }
   ],
   "source": [
    "import f90nml\n",
    "import os\n",
    "\n",
    "path_jupyter = os.getcwd()\n",
    "print(path_jupyter)"
   ]
  },
  {
   "cell_type": "markdown",
   "metadata": {},
   "source": [
    "The namelist `tetra_grid_nml` we want to look at in this example is located in the file `tetra_grid.inp`, which can be found in the *INPUT* folder. So we provide the correct path to that file and read it into a python dictionary. Make sure to set the *end_comma* property of the generated namelist-object to *True*."
   ]
  },
  {
   "cell_type": "code",
   "execution_count": 344,
   "metadata": {},
   "outputs": [
    {
     "name": "stdout",
     "output_type": "stream",
     "text": [
      "&tetra_grid_nml\n",
      "    n1 = 100,\n",
      "    n2 = 40,\n",
      "    n3 = 40,\n",
      "    grid_kind = 3,\n",
      "    g_file_filename = 'MHD_EQUILIBRIA/g_file_for_test',\n",
      "    convex_wall_filename = 'MHD_EQUILIBRIA/convex_wall_for_test.dat',\n",
      "    netcdf_filename = 'MHD_EQUILIBRIA/netcdf_file_for_test.nc',\n",
      "    boole_n_field_periods = .true.,\n",
      "    n_field_periods_manual = 1,\n",
      "    sfc_s_min = 0.1,\n",
      "    theta_geom_flux = 1,\n",
      "    theta0_at_xpoint = .true.,\n",
      "    boole_write_mesh_obj = .false.,\n",
      "    filename_mesh_rphiz = 'mesh_rphiz.obj',\n",
      "    filename_mesh_sthetaphi = 'mesh_sthetaphi.obj',\n",
      "/\n"
     ]
    }
   ],
   "source": [
    "filename= path_jupyter + '/../INPUT/tetra_grid.inp'\n",
    "tetra_grid = f90nml.read(filename)\n",
    "tetra_grid.end_comma = True\n",
    "print(tetra_grid)"
   ]
  },
  {
   "cell_type": "markdown",
   "metadata": {},
   "source": [
    "You can now access and change the values of the listed *key:value pairs* in that dictonary by first indexing the wanted namelist and then the keyname:"
   ]
  },
  {
   "cell_type": "code",
   "execution_count": 345,
   "metadata": {},
   "outputs": [
    {
     "name": "stdout",
     "output_type": "stream",
     "text": [
      "The current number of grid points n1 is 100\n",
      "The new value of n1 is 101\n"
     ]
    }
   ],
   "source": [
    "print('The current number of grid points n1 is ' + str(tetra_grid['tetra_grid_nml']['n1']))\n",
    "\n",
    "tetra_grid['tetra_grid_nml']['n1'] = 101\n",
    "\n",
    "print('The new value of n1 is ' + str(tetra_grid['tetra_grid_nml']['n1']))"
   ]
  },
  {
   "cell_type": "markdown",
   "metadata": {},
   "source": [
    "After we have altered the desired options, we write our changed namelist to a new namelist-file (this is done to preserve the comments in the original file as well as the default settings). The final file should be located in the same folder as the main excutable `test_gorilla_main.x` so that it can then properly acess the file."
   ]
  },
  {
   "cell_type": "code",
   "execution_count": 346,
   "metadata": {},
   "outputs": [],
   "source": [
    "new_filename = path_jupyter + '/../tetra_grid.inp'\n",
    "tetra_grid.write(new_filename, force = True);"
   ]
  },
  {
   "cell_type": "markdown",
   "metadata": {},
   "source": [
    "The commments in the original `.inp` file explain the different options of the namelist `tetra_grid_nml`. We delete now the just created file, as it was just for demonstration purposes. Later we will create the modified files in the actual RUN folder where we want to execute GORILLA."
   ]
  },
  {
   "cell_type": "code",
   "execution_count": 347,
   "metadata": {},
   "outputs": [],
   "source": [
    "if (True):\n",
    "  os.remove(new_filename)"
   ]
  },
  {
   "cell_type": "markdown",
   "metadata": {},
   "source": [
    "***\n",
    "\n",
    "## Initialization"
   ]
  },
  {
   "cell_type": "markdown",
   "metadata": {},
   "source": [
    "Assuming the proper packages (*f90nml* and *os*) are already loaded, the PYTHON code first needs to know where to find the used files. Therefore, it is necessary to specify some paths. \n",
    "\n",
    "For the here provided default values to work\n",
    "* the folder *GORILLA* must not have been changed\n",
    "* **the current working directory** has to be the folder of this JUPYTER notebook (check the print output of the next cell)\n",
    "* and the code cells of this section have to be executed in order. \n",
    "\n",
    "**If in doubt, restart the notebook to clear the working variables and to reset the current path to this notebook.**\n",
    " \n",
    "First, we get the current working directory:"
   ]
  },
  {
   "cell_type": "code",
   "execution_count": 348,
   "metadata": {},
   "outputs": [
    {
     "name": "stdout",
     "output_type": "stream",
     "text": [
      "/afs/itp.tugraz.at/user/grassl_g/MT/GORILLA/JUPYTER\n"
     ]
    }
   ],
   "source": [
    "path_script = os.getcwd()\n",
    "#default: path_script= os.getcwd();\n",
    "print(path_script)"
   ]
  },
  {
   "cell_type": "markdown",
   "metadata": {},
   "source": [
    "The path of the main folder *GORILLA*:"
   ]
  },
  {
   "cell_type": "code",
   "execution_count": 349,
   "metadata": {},
   "outputs": [],
   "source": [
    "path_main = path_script + '/..'\n",
    "#default: path_main= path_script + '/..'"
   ]
  },
  {
   "cell_type": "markdown",
   "metadata": {},
   "source": [
    "Next, the path where the FORTRAN code should be executed. Here we create a new clean RUN folder for that. Note that the explicit shell commands depend on the used **operating system**."
   ]
  },
  {
   "cell_type": "code",
   "execution_count": 350,
   "metadata": {},
   "outputs": [],
   "source": [
    "path_RUN = path_main + '/EXAMPLES/PYTHON_RUN/plot_poincare'\n",
    "#default path_RUN= path_main + '/EXAMPLES/PYTHON_RUN/plot_poincare'\n",
    "\n",
    "if not os.path.exists(path_RUN):\n",
    "  os.makedirs(path_RUN)\n",
    "\n",
    "os. chdir(path_RUN)\n",
    "if os.listdir('../plot_poincare/'):\n",
    "  os.system('rm -r ../plot_poincare/*')"
   ]
  },
  {
   "cell_type": "markdown",
   "metadata": {},
   "source": [
    "In the *INPUT* folder the input files for the GORILLA code are already prepared. All input variables have a default value. These input files will be loaded into the PYTHON script later on."
   ]
  },
  {
   "cell_type": "code",
   "execution_count": 351,
   "metadata": {},
   "outputs": [],
   "source": [
    "path_inp_files = path_main + '/INPUT'\n",
    "#default path_inp_files= path_main + '/INPUT';"
   ]
  },
  {
   "cell_type": "markdown",
   "metadata": {},
   "source": [
    "GORILLA will create as output several data files. By default they are saved to the same directory where the executable was run from (in our case the RUN folder). We will use these files to make several plots and then save them into a seperate folder (in our case a folder in the directory of this notebook)."
   ]
  },
  {
   "cell_type": "code",
   "execution_count": 352,
   "metadata": {},
   "outputs": [],
   "source": [
    "name_data_folder ='/data_plots/plot_poincare'\n",
    "path_data_plots = path_script + name_data_folder\n",
    "\n",
    "if not os.path.exists(path_data_plots):\n",
    "  os.makedirs(path_data_plots)"
   ]
  },
  {
   "cell_type": "markdown",
   "metadata": {},
   "source": [
    "\n",
    "***\n",
    "\n",
    "## Loading the namelists"
   ]
  },
  {
   "cell_type": "markdown",
   "metadata": {},
   "source": [
    "The *GORILLA* code requires some input files. All possible options for the code can be set in these files. In the INPUT folder, there are already default input files. In these files one can also find short explanations for ervery variable. In this script all input files will be loaded. The general way of working with the namelists in these input files using *f90nml* is explained in the preliminary at the top of this notebook."
   ]
  },
  {
   "cell_type": "code",
   "execution_count": 353,
   "metadata": {},
   "outputs": [],
   "source": [
    "gorilla = f90nml.read(path_inp_files + '/gorilla.inp')\n",
    "gorilla.end_comma = True\n",
    "tetra_grid = f90nml.read(path_inp_files + '/tetra_grid.inp')\n",
    "tetra_grid.end_comma = True\n",
    "gorilla_plot = f90nml.read(path_inp_files + '/gorilla_plot.inp')\n",
    "gorilla_plot.end_comma = True"
   ]
  },
  {
   "cell_type": "markdown",
   "metadata": {},
   "source": [
    "\n",
    "***\n",
    "\n",
    "## Input file gorilla.inp"
   ]
  },
  {
   "cell_type": "markdown",
   "metadata": {},
   "source": [
    "### Electrostatic potential"
   ]
  },
  {
   "cell_type": "markdown",
   "metadata": {},
   "source": [
    "Change in the electrostatic potential within the plasma volume in Gaussian units "
   ]
  },
  {
   "cell_type": "code",
   "execution_count": 354,
   "metadata": {},
   "outputs": [],
   "source": [
    "gorilla['gorillanml']['eps_Phi'] = 0"
   ]
  },
  {
   "cell_type": "markdown",
   "metadata": {},
   "source": [
    "### Coordinate system"
   ]
  },
  {
   "cell_type": "markdown",
   "metadata": {},
   "source": [
    "1 ... ($R$,$\\varphi$,$Z$) cylindrical coordinate system\n",
    "\n",
    "2 ... ($s$,$\\vartheta$,$\\varphi$) symmetry flux coordinate system "
   ]
  },
  {
   "cell_type": "code",
   "execution_count": 355,
   "metadata": {},
   "outputs": [],
   "source": [
    "gorilla['gorillanml']['coord_system'] = 2"
   ]
  },
  {
   "cell_type": "markdown",
   "metadata": {},
   "source": [
    "### Particle species"
   ]
  },
  {
   "cell_type": "markdown",
   "metadata": {},
   "source": [
    "1 ... electron\n",
    "\n",
    "2 ... deuterium ion\n",
    "\n",
    "3 ... alpha particle"
   ]
  },
  {
   "cell_type": "code",
   "execution_count": 356,
   "metadata": {},
   "outputs": [],
   "source": [
    "gorilla['gorillanml']['ispecies'] = 2"
   ]
  },
  {
   "cell_type": "markdown",
   "metadata": {},
   "source": [
    "### Periodic coordinate particle re-location"
   ]
  },
  {
   "cell_type": "markdown",
   "metadata": {},
   "source": [
    "*True* ... Particles are re-located at initialization in the case of a periodic coordinate, if they are outside the computation domain.\n",
    "\n",
    "*False* .. Particles are not re-located at initialization (This might lead to error if particles are outside the computation domain)"
   ]
  },
  {
   "cell_type": "code",
   "execution_count": 357,
   "metadata": {},
   "outputs": [],
   "source": [
    "gorilla['gorillanml']['boole_periodic_relocation'] = True"
   ]
  },
  {
   "cell_type": "markdown",
   "metadata": {},
   "source": [
    "### GORILLA pusher options"
   ]
  },
  {
   "cell_type": "markdown",
   "metadata": {},
   "source": [
    "1 ... numerical RK pusher\n",
    "\n",
    "2 ... polynomial pusher"
   ]
  },
  {
   "cell_type": "code",
   "execution_count": 358,
   "metadata": {},
   "outputs": [],
   "source": [
    "gorilla['gorillanml']['ipusher'] = 2"
   ]
  },
  {
   "cell_type": "markdown",
   "metadata": {},
   "source": [
    "### Numerical pusher options"
   ]
  },
  {
   "cell_type": "markdown",
   "metadata": {},
   "source": [
    "##### accuracy for integration step"
   ]
  },
  {
   "cell_type": "markdown",
   "metadata": {},
   "source": [
    "*False* ... RK4\n",
    "\n",
    "*True* ... adaptive ODE45"
   ]
  },
  {
   "cell_type": "code",
   "execution_count": 359,
   "metadata": {},
   "outputs": [],
   "source": [
    "gorilla['gorillanml']['boole_pusher_ode45'] = False"
   ]
  },
  {
   "cell_type": "markdown",
   "metadata": {},
   "source": [
    "##### ODE45 relative accuracy (pusher orbit)"
   ]
  },
  {
   "cell_type": "code",
   "execution_count": 360,
   "metadata": {},
   "outputs": [],
   "source": [
    "gorilla['gorillanml']['rel_err_ode45'] = 1e-8"
   ]
  },
  {
   "cell_type": "markdown",
   "metadata": {},
   "source": [
    "##### Physical time - orbit parameter relation"
   ]
  },
  {
   "cell_type": "markdown",
   "metadata": {},
   "source": [
    "*False* ... $dt/d\\tau$ is a linear function of position in each tetrahedron\n",
    "\n",
    "*True* ... $dt/d\\tau$ is a constant averaged quantity in each tetrahedron"
   ]
  },
  {
   "cell_type": "code",
   "execution_count": 361,
   "metadata": {},
   "outputs": [],
   "source": [
    "gorilla['gorillanml']['boole_dt_dtau'] = True"
   ]
  },
  {
   "cell_type": "markdown",
   "metadata": {},
   "source": [
    "##### Precomputation for Newton iterations"
   ]
  },
  {
   "cell_type": "markdown",
   "metadata": {},
   "source": [
    "*False* ... Compute coefficients for 2nd order polynomial solution (Newton velocity and acceleration) in each tetrahedron ($dzd\\tau$) without precomputation\n",
    "\n",
    "*True* ... Use precomputation of coefficients for 2nd order polynomial solution (Newton velocity and acceleration)"
   ]
  },
  {
   "cell_type": "code",
   "execution_count": 362,
   "metadata": {},
   "outputs": [],
   "source": [
    "gorilla['gorillanml']['boole_newton_precalc'] = False"
   ]
  },
  {
   "cell_type": "markdown",
   "metadata": {},
   "source": [
    "### Polynomial pusher options"
   ]
  },
  {
   "cell_type": "markdown",
   "metadata": {},
   "source": [
    "##### Polynomial order for orbit pusher"
   ]
  },
  {
   "cell_type": "code",
   "execution_count": 363,
   "metadata": {},
   "outputs": [],
   "source": [
    "gorilla['gorillanml']['poly_order'] = 4"
   ]
  },
  {
   "cell_type": "markdown",
   "metadata": {},
   "source": [
    "##### Settings for precomputation of coefficients"
   ]
  },
  {
   "cell_type": "markdown",
   "metadata": {},
   "source": [
    "0 ... No precomputation: All coefficients are computed on the fly (power of matrices)\n",
    "\n",
    "1 ... Precomputation of coefficients and factorization of powers of $v_{\\perp}$\n",
    "\n",
    "2 ... Same as 1 but with further precomputation of operatorb in $b$\n",
    "\n",
    "3 ... Extended precomputation of coefficients for constant $v_{\\perp}$\n",
    "\n",
    "(Precomputation is done for each tetrahedron for constant perpinv) NOT IMPLEMENTED YET"
   ]
  },
  {
   "cell_type": "code",
   "execution_count": 364,
   "metadata": {},
   "outputs": [],
   "source": [
    "gorilla['gorillanml']['i_precomp'] = 0"
   ]
  },
  {
   "cell_type": "markdown",
   "metadata": {},
   "source": [
    "##### Face prediction with 2nd order polynomial"
   ]
  },
  {
   "cell_type": "markdown",
   "metadata": {},
   "source": [
    "*True* ... Face guessing algorithm is used\n",
    "\n",
    "*False* ... NOT used"
   ]
  },
  {
   "cell_type": "code",
   "execution_count": 365,
   "metadata": {},
   "outputs": [],
   "source": [
    "gorilla['gorillanml']['boole_guess'] = True"
   ]
  },
  {
   "cell_type": "markdown",
   "metadata": {},
   "source": [
    "### Processing of particle handover to tetrahedron neighbour"
   ]
  },
  {
   "cell_type": "markdown",
   "metadata": {},
   "source": [
    "1 ... Processing with special treatment of periodic boundaries and manipulation of periodic position values\n",
    "\n",
    "2 ... Position exchange via Cartesian variables (skew_coordinates) - Necessary precomputation is included"
   ]
  },
  {
   "cell_type": "code",
   "execution_count": 366,
   "metadata": {},
   "outputs": [],
   "source": [
    "gorilla['gorillanml']['handover_processing_kind'] = 1"
   ]
  },
  {
   "cell_type": "markdown",
   "metadata": {},
   "source": [
    "### Noise on axisymmetric electromagnetic field (Tokamak)"
   ]
  },
  {
   "cell_type": "markdown",
   "metadata": {},
   "source": [
    "##### Add axisymmetric noise to vector potential $A_k$"
   ]
  },
  {
   "cell_type": "markdown",
   "metadata": {},
   "source": [
    "*True* ... Add axisymmetric random noise ($\\xi$ = 0 ... 1) to the co-variant component of the vector potential $A_k$\n",
    "\n",
    "$A_k' = A_k(1 + \\epsilon{}_A\\xi)$\n",
    "\n",
    "*False* ... Add no axisymmetric noise to $A_k$"
   ]
  },
  {
   "cell_type": "code",
   "execution_count": 367,
   "metadata": {},
   "outputs": [],
   "source": [
    "gorilla['gorillanml']['boole_axi_noise_vector_pot'] = False"
   ]
  },
  {
   "cell_type": "markdown",
   "metadata": {},
   "source": [
    "##### Relative Magnitude of axisymmetric random noise $\\epsilon{}_A$ of vector potential"
   ]
  },
  {
   "cell_type": "code",
   "execution_count": 368,
   "metadata": {},
   "outputs": [],
   "source": [
    "gorilla['gorillanml']['axi_noise_eps_A'] = 1e-1"
   ]
  },
  {
   "cell_type": "markdown",
   "metadata": {},
   "source": [
    "##### Add axisymmetric noise to electrostatic potential $\\phi$"
   ]
  },
  {
   "cell_type": "markdown",
   "metadata": {},
   "source": [
    "*True* ... Add axisymmetric random noise ($\\xi$ = 0 ... 1) to the electrostatic potential $\\phi$\n",
    "\n",
    "$\\phi' = \\phi(1 + \\epsilon{}_{\\phi}\\xi)$\n",
    "\n",
    "*False* ... Add no axisymmetric noise to $\\phi$"
   ]
  },
  {
   "cell_type": "code",
   "execution_count": 369,
   "metadata": {},
   "outputs": [],
   "source": [
    "gorilla['gorillanml']['boole_axi_noise_elec_pot'] = False"
   ]
  },
  {
   "cell_type": "markdown",
   "metadata": {},
   "source": [
    "##### Relative Magnitude of axisymmetric random noise $\\epsilon{}_{\\phi}$ of electrostatic potential"
   ]
  },
  {
   "cell_type": "code",
   "execution_count": 370,
   "metadata": {},
   "outputs": [],
   "source": [
    "gorilla['gorillanml']['axi_noise_eps_Phi'] = 3e-1"
   ]
  },
  {
   "cell_type": "markdown",
   "metadata": {},
   "source": [
    "##### Add non-axisymmetric noise to vector potential $A_k$"
   ]
  },
  {
   "cell_type": "code",
   "execution_count": 371,
   "metadata": {},
   "outputs": [],
   "source": [
    "gorilla['gorillanml']['boole_non_axi_noise_vector_pot'] = False"
   ]
  },
  {
   "cell_type": "markdown",
   "metadata": {},
   "source": [
    "##### Relative Magnitude of non-axisymmetric random noise $\\epsilon{}_A$ of vector potential"
   ]
  },
  {
   "cell_type": "code",
   "execution_count": 372,
   "metadata": {},
   "outputs": [],
   "source": [
    "gorilla['gorillanml']['non_axi_noise_eps_A'] = 1e-4"
   ]
  },
  {
   "cell_type": "markdown",
   "metadata": {},
   "source": [
    "### Harmonic perturbation on axisymmetric electromagnetic field"
   ]
  },
  {
   "cell_type": "markdown",
   "metadata": {},
   "source": [
    "##### Add helical harmonic perturbation of $A_{\\varphi}$"
   ]
  },
  {
   "cell_type": "markdown",
   "metadata": {},
   "source": [
    "*False* ... no perturbation\n",
    "\n",
    "*True* ... helical perbutation on:\n",
    "\n",
    "$A_{\\varphi}' = A_{\\varphi} + A_{\\varphi}* \\epsilon{}_{A_{\\varphi}}^{helical} * \\cos{(m_{fourier}*\\vartheta +n_{fourier}*\\varphi)}$"
   ]
  },
  {
   "cell_type": "code",
   "execution_count": 373,
   "metadata": {},
   "outputs": [],
   "source": [
    "gorilla['gorillanml']['boole_helical_pert'] = False"
   ]
  },
  {
   "cell_type": "markdown",
   "metadata": {},
   "source": [
    "##### Amplitude of helical harmonic perturbation $\\epsilon{}_{A_{\\varphi}}^{helical}$"
   ]
  },
  {
   "cell_type": "code",
   "execution_count": 374,
   "metadata": {},
   "outputs": [],
   "source": [
    "gorilla['gorillanml']['helical_pert_eps_Aphi'] = 1e-1"
   ]
  },
  {
   "cell_type": "markdown",
   "metadata": {},
   "source": [
    "##### Fourier modes ($m_{fourier}$, $n_{fourier}$) of helical perturbation "
   ]
  },
  {
   "cell_type": "code",
   "execution_count": 375,
   "metadata": {},
   "outputs": [],
   "source": [
    "gorilla['gorillanml']['helical_pert_m_fourier'] = 2\n",
    "gorilla['gorillanml']['helical_pert_n_fourier'] = 2"
   ]
  },
  {
   "cell_type": "markdown",
   "metadata": {},
   "source": [
    "\n",
    "***\n",
    "\n",
    "## Input file tetra_grid.inp"
   ]
  },
  {
   "cell_type": "markdown",
   "metadata": {},
   "source": [
    "### Grid size"
   ]
  },
  {
   "cell_type": "markdown",
   "metadata": {},
   "source": [
    "Rectangular: $n_R$, Field-aligned: $n_s$"
   ]
  },
  {
   "cell_type": "code",
   "execution_count": 376,
   "metadata": {},
   "outputs": [],
   "source": [
    "tetra_grid['tetra_grid_nml']['n1'] = 100"
   ]
  },
  {
   "cell_type": "markdown",
   "metadata": {},
   "source": [
    "Rectangular: $n_{\\varphi}$, Field-aligned: $n_{\\varphi}$ "
   ]
  },
  {
   "cell_type": "code",
   "execution_count": 377,
   "metadata": {},
   "outputs": [],
   "source": [
    "tetra_grid['tetra_grid_nml']['n2'] = 30"
   ]
  },
  {
   "cell_type": "markdown",
   "metadata": {},
   "source": [
    "Rectangular: $n_Z$, Field-aligned: $n_{\\vartheta}$"
   ]
  },
  {
   "cell_type": "code",
   "execution_count": 378,
   "metadata": {},
   "outputs": [],
   "source": [
    "tetra_grid['tetra_grid_nml']['n3'] = 30"
   ]
  },
  {
   "cell_type": "markdown",
   "metadata": {},
   "source": [
    "### Grid kind"
   ]
  },
  {
   "cell_type": "markdown",
   "metadata": {},
   "source": [
    "1 ... rectangular grid for axisymmetric EFIT data (g-file)\n",
    "\n",
    "2 ... field-aligned grid for axisymmetric EFIT data (g-file)\n",
    "\n",
    "3 ... field-aligned grid for non-axisymmetric VMEC (netcdf)"
   ]
  },
  {
   "cell_type": "code",
   "execution_count": 379,
   "metadata": {},
   "outputs": [],
   "source": [
    "tetra_grid['tetra_grid_nml']['grid_kind'] = 3"
   ]
  },
  {
   "cell_type": "markdown",
   "metadata": {},
   "source": [
    "\n",
    "### Source files of fields"
   ]
  },
  {
   "cell_type": "markdown",
   "metadata": {},
   "source": [
    "GORILLA needs the electromagnetic fields as input to perform the trajectory integration. Additionally, the fields are also needed to generate the field-aligned grid or to perform the triangle classification when dealing with the WEST geometry. The location (default is the folder *MHD_EQUILIBRIA*) and names of the corresponding MHD equilibrium files are specified here:"
   ]
  },
  {
   "cell_type": "code",
   "execution_count": 380,
   "metadata": {},
   "outputs": [],
   "source": [
    "tetra_grid['tetra_grid_nml']['g_file_filename'] = 'MHD_EQUILIBRIA/g_file_for_test' \n",
    "tetra_grid['tetra_grid_nml']['convex_wall_filename'] = 'MHD_EQUILIBRIA/convex_wall_for_test.dat' \n",
    "tetra_grid['tetra_grid_nml']['netcdf_filename'] = 'MHD_EQUILIBRIA/netcdf_file_for_test.nc' "
   ]
  },
  {
   "cell_type": "markdown",
   "metadata": {},
   "source": [
    "### Automatic determination of field period"
   ]
  },
  {
   "cell_type": "markdown",
   "metadata": {},
   "source": [
    "*True* ... number of field periods is selected automatically (Tokamak = 1,       Stellarator depending on VMEC equilibrium)\n",
    "\n",
    "*False* ... number of field periods is selected manually (see below)"
   ]
  },
  {
   "cell_type": "code",
   "execution_count": 381,
   "metadata": {},
   "outputs": [],
   "source": [
    "tetra_grid['tetra_grid_nml']['boole_n_field_periods'] = True"
   ]
  },
  {
   "cell_type": "markdown",
   "metadata": {},
   "source": [
    "### Number of field periods (manual)"
   ]
  },
  {
   "cell_type": "code",
   "execution_count": 382,
   "metadata": {},
   "outputs": [],
   "source": [
    "tetra_grid['tetra_grid_nml']['n_field_periods_manual'] = 1"
   ]
  },
  {
   "cell_type": "markdown",
   "metadata": {},
   "source": [
    "### Symmetry Flux Coordinates Annulus"
   ]
  },
  {
   "cell_type": "markdown",
   "metadata": {},
   "source": [
    "During the generation of the field aligned grid with Symmetry Flux Coodinates, a small region around the magnetic axis is left out, due to insufficient precission of conversion functions for this region. The grid is therefore only generated down to a minimal value of the flux fluxcoordinate $s$."
   ]
  },
  {
   "cell_type": "code",
   "execution_count": 383,
   "metadata": {},
   "outputs": [],
   "source": [
    "tetra_grid['tetra_grid_nml']['sfc_s_min'] = 0.1"
   ]
  },
  {
   "cell_type": "markdown",
   "metadata": {},
   "source": [
    "### Option for poloidal angle-variable"
   ]
  },
  {
   "cell_type": "markdown",
   "metadata": {},
   "source": [
    "By default the aligned grid is generated by having equidistant points in SFC ($s$,$\\vartheta$,$\\phi$). However, for the flux poloidal angle $\\vartheta$ there is the option to have the points equidistant in terms of the geometrical poloidal angle $\\theta$ instead. This avoids undesired deformations of the grid in real space.\n",
    "\n",
    "1 ... angle scaling in symmetry flux coordinates $\\vartheta$\n",
    "\n",
    "2 ... angle scaling in geometrical poloidal angle $\\theta$"
   ]
  },
  {
   "cell_type": "code",
   "execution_count": 384,
   "metadata": {},
   "outputs": [],
   "source": [
    "tetra_grid['tetra_grid_nml']['theta_geom_flux'] = 1"
   ]
  },
  {
   "cell_type": "markdown",
   "metadata": {},
   "source": [
    "### Poloidal angle-variable origin "
   ]
  },
  {
   "cell_type": "markdown",
   "metadata": {},
   "source": [
    "*True* ... angle-variable starts at the line between O- and X-Point\n",
    "\n",
    "*False* ... angle-variable starts at the line between O-Point and intersection between O-Point-[1,0]-straight-line and separatrix"
   ]
  },
  {
   "cell_type": "code",
   "execution_count": 385,
   "metadata": {},
   "outputs": [],
   "source": [
    "tetra_grid['tetra_grid_nml']['theta0_at_xpoint'] = False"
   ]
  },
  {
   "cell_type": "markdown",
   "metadata": {},
   "source": [
    "\n",
    "### Switch for saving grid-mesh as object files"
   ]
  },
  {
   "cell_type": "markdown",
   "metadata": {},
   "source": [
    "*GORILLA* generates the mesh (vertex positions plus assignment to the tetrahedra) everytime the executable is called. It therefore only exists temporary during runtime. However, one can set it to be saved in an object file."
   ]
  },
  {
   "cell_type": "code",
   "execution_count": 386,
   "metadata": {},
   "outputs": [],
   "source": [
    "tetra_grid['tetra_grid_nml']['boole_write_mesh_obj'] = False"
   ]
  },
  {
   "cell_type": "markdown",
   "metadata": {},
   "source": [
    "### Filename for mesh object file in cylindrical coordinates"
   ]
  },
  {
   "cell_type": "code",
   "execution_count": 387,
   "metadata": {},
   "outputs": [],
   "source": [
    "tetra_grid['tetra_grid_nml']['filename_mesh_rphiz'] = 'mesh_rphiz.obj' "
   ]
  },
  {
   "cell_type": "markdown",
   "metadata": {},
   "source": [
    "### Filename for mesh object file in symmetry flux coordintes "
   ]
  },
  {
   "cell_type": "code",
   "execution_count": 388,
   "metadata": {},
   "outputs": [],
   "source": [
    "tetra_grid['tetra_grid_nml']['filename_mesh_sthetaphi'] = 'mesh_sthetaphi.obj' "
   ]
  },
  {
   "cell_type": "markdown",
   "metadata": {},
   "source": [
    "***\n",
    "\n",
    "## Input file gorilla_plot.inp"
   ]
  },
  {
   "cell_type": "markdown",
   "metadata": {},
   "source": [
    "### Switch for starting position options"
   ]
  },
  {
   "cell_type": "markdown",
   "metadata": {},
   "source": [
    "1 ... Single orbit - Starting positions and pitch for the orbit are taken from file (see below) [First Line]\n",
    "\n",
    "2 ... Single orbit - Starting positions and pitch for the orbit are taken from starting drift surfaces (see below)\n",
    "\n",
    "3 ... Multiple orbits - Starting positions and pitch for orbits are taken from file (see below) [Every Line New Starting position]\n",
    "\n",
    "4 ... Multiple orbits - Starting positions and pitch for orbits are taken from drift surfaces with regular spacing (see below)"
   ]
  },
  {
   "cell_type": "code",
   "execution_count": 389,
   "metadata": {},
   "outputs": [],
   "source": [
    "gorilla_plot['gorilla_plot_nml']['i_orbit_options'] = 1"
   ]
  },
  {
   "cell_type": "markdown",
   "metadata": {},
   "source": [
    "### Total individual orbit flight time for plotting"
   ]
  },
  {
   "cell_type": "code",
   "execution_count": 390,
   "metadata": {},
   "outputs": [],
   "source": [
    "gorilla_plot['gorilla_plot_nml']['total_orbit_time'] = 2"
   ]
  },
  {
   "cell_type": "markdown",
   "metadata": {},
   "source": [
    "### Total energy of particle in eV"
   ]
  },
  {
   "cell_type": "code",
   "execution_count": 391,
   "metadata": {},
   "outputs": [],
   "source": [
    "gorilla_plot['gorilla_plot_nml']['energy_eV_start'] = 3e3"
   ]
  },
  {
   "cell_type": "markdown",
   "metadata": {},
   "source": [
    "### Plot Poincaré cuts ($\\varphi = 0$)"
   ]
  },
  {
   "cell_type": "markdown",
   "metadata": {},
   "source": [
    "##### Switch for plotting Poincaré cuts ($\\varphi = 0$)"
   ]
  },
  {
   "cell_type": "code",
   "execution_count": 392,
   "metadata": {},
   "outputs": [],
   "source": [
    "gorilla_plot['gorilla_plot_nml']['boole_poincare_phi_0'] = False"
   ]
  },
  {
   "cell_type": "markdown",
   "metadata": {},
   "source": [
    "##### Number of skipped (non-printed) Poincaré cuts ($\\varphi = 0$)"
   ]
  },
  {
   "cell_type": "code",
   "execution_count": 393,
   "metadata": {},
   "outputs": [],
   "source": [
    "gorilla_plot['gorilla_plot_nml']['n_skip_phi_0'] = 100"
   ]
  },
  {
   "cell_type": "markdown",
   "metadata": {},
   "source": [
    "##### Filename for Poincaré cuts ($\\varphi = 0$) in cylindrical coordinates ($R$,$\\varphi$,$Z$)"
   ]
  },
  {
   "cell_type": "code",
   "execution_count": 394,
   "metadata": {},
   "outputs": [],
   "source": [
    "gorilla_plot['gorilla_plot_nml']['filename_poincare_phi_0_rphiz'] = 'poincare_plot_phi_0_rphiz.dat'"
   ]
  },
  {
   "cell_type": "markdown",
   "metadata": {},
   "source": [
    "##### Filename for Poincaré cuts ($\\varphi = 0$) in symmetry flux coordinates ($s$,$\\vartheta$,$\\varphi$)"
   ]
  },
  {
   "cell_type": "code",
   "execution_count": 395,
   "metadata": {},
   "outputs": [],
   "source": [
    "gorilla_plot['gorilla_plot_nml']['filename_poincare_phi_0_sthetaphi'] = 'poincare_plot_phi_0_sthetaphi.dat'"
   ]
  },
  {
   "cell_type": "markdown",
   "metadata": {},
   "source": [
    "### Plot Poincaré cuts ($v_{\\parallel} = 0$)"
   ]
  },
  {
   "cell_type": "markdown",
   "metadata": {},
   "source": [
    "##### Switch for plotting Poincaré cuts ($v_{\\parallel} = 0$)"
   ]
  },
  {
   "cell_type": "code",
   "execution_count": 396,
   "metadata": {},
   "outputs": [],
   "source": [
    "gorilla_plot['gorilla_plot_nml']['boole_poincare_vpar_0'] = False"
   ]
  },
  {
   "cell_type": "markdown",
   "metadata": {},
   "source": [
    "##### Number of skipped (non-printed) Poincaré cuts ($v_{\\parallel} = 0$)"
   ]
  },
  {
   "cell_type": "code",
   "execution_count": 397,
   "metadata": {},
   "outputs": [],
   "source": [
    "gorilla_plot['gorilla_plot_nml']['n_skip_vpar_0'] = 1"
   ]
  },
  {
   "cell_type": "markdown",
   "metadata": {},
   "source": [
    "##### Filename for Poincaré cuts ($v_{\\parallel} = 0$) in cylindrical coordinates ($R$,$\\varphi$,$Z$)"
   ]
  },
  {
   "cell_type": "code",
   "execution_count": 398,
   "metadata": {},
   "outputs": [],
   "source": [
    "gorilla_plot['gorilla_plot_nml']['filename_poincare_vpar_0_rphiz'] = 'poincare_plot_vpar_0_rphiz.dat'"
   ]
  },
  {
   "cell_type": "markdown",
   "metadata": {},
   "source": [
    "##### Filename for Poincaré cuts ($v_{\\parallel} = 0$) in symmetry flux coordinates ($s$,$\\vartheta$,$\\varphi$)"
   ]
  },
  {
   "cell_type": "code",
   "execution_count": 399,
   "metadata": {},
   "outputs": [],
   "source": [
    "gorilla_plot['gorilla_plot_nml']['filename_poincare_vpar_0_sthetaphi'] = 'poincare_plot_vpar_0_sthetaphi.dat'"
   ]
  },
  {
   "cell_type": "markdown",
   "metadata": {},
   "source": [
    "### Plot full orbit"
   ]
  },
  {
   "cell_type": "markdown",
   "metadata": {},
   "source": [
    "##### Switch for plotting full orbit"
   ]
  },
  {
   "cell_type": "code",
   "execution_count": 400,
   "metadata": {},
   "outputs": [],
   "source": [
    "gorilla_plot['gorilla_plot_nml']['boole_full_orbit'] = True"
   ]
  },
  {
   "cell_type": "markdown",
   "metadata": {},
   "source": [
    "##### Number of skipped (non-printed tetrahedra passings) full orbit"
   ]
  },
  {
   "cell_type": "code",
   "execution_count": 401,
   "metadata": {},
   "outputs": [],
   "source": [
    "gorilla_plot['gorilla_plot_nml']['n_skip_full_orbit'] = 10000"
   ]
  },
  {
   "cell_type": "markdown",
   "metadata": {},
   "source": [
    "##### Filename for full orbit in cylindrical coordinates ($R$,$\\varphi$,$Z$)"
   ]
  },
  {
   "cell_type": "code",
   "execution_count": 402,
   "metadata": {},
   "outputs": [],
   "source": [
    "gorilla_plot['gorilla_plot_nml']['filename_full_orbit_rphiz'] = 'full_orbit_plot_rphiz.dat'"
   ]
  },
  {
   "cell_type": "markdown",
   "metadata": {},
   "source": [
    "##### Filename for full orbit in flux coordinates ($s$,$\\vartheta$,$\\varphi$)"
   ]
  },
  {
   "cell_type": "code",
   "execution_count": 403,
   "metadata": {},
   "outputs": [],
   "source": [
    "gorilla_plot['gorilla_plot_nml']['filename_full_orbit_sthetaphi'] = 'full_orbit_plot_sthetaphi.dat'"
   ]
  },
  {
   "cell_type": "markdown",
   "metadata": {},
   "source": [
    "### Plot invariances of motion (ONLY for single orbits)"
   ]
  },
  {
   "cell_type": "markdown",
   "metadata": {},
   "source": [
    "##### Switch for plotting total particle energy"
   ]
  },
  {
   "cell_type": "code",
   "execution_count": 404,
   "metadata": {},
   "outputs": [],
   "source": [
    "gorilla_plot['gorilla_plot_nml']['boole_e_tot'] = True\n",
    "\n",
    "if gorilla_plot['gorilla_plot_nml']['boole_e_tot'] and (gorilla_plot['gorilla_plot_nml']['i_orbit_options'] == 3 or gorilla_plot['gorilla_plot_nml']['i_orbit_options'] == 4):\n",
    "    raise Exception('Invariances of motion are only for single orbits!')"
   ]
  },
  {
   "cell_type": "markdown",
   "metadata": {},
   "source": [
    "##### Filename for total energy"
   ]
  },
  {
   "cell_type": "code",
   "execution_count": 405,
   "metadata": {},
   "outputs": [],
   "source": [
    "gorilla_plot['gorilla_plot_nml']['filename_e_tot'] = 'e_tot.dat'"
   ]
  },
  {
   "cell_type": "markdown",
   "metadata": {},
   "source": [
    "##### Switch for plotting canoncial (toroidal) angular momentum $p_\\varphi$"
   ]
  },
  {
   "cell_type": "code",
   "execution_count": 406,
   "metadata": {},
   "outputs": [],
   "source": [
    "gorilla_plot['gorilla_plot_nml']['boole_p_phi'] = False\n",
    "\n",
    "if gorilla_plot['gorilla_plot_nml']['boole_p_phi'] and (gorilla_plot['gorilla_plot_nml']['i_orbit_options'] == 3 or gorilla_plot['gorilla_plot_nml']['i_orbit_options'] == 4):\n",
    "    raise Exception('Invariances of motion are only for single orbits!')"
   ]
  },
  {
   "cell_type": "markdown",
   "metadata": {},
   "source": [
    "##### Filename for canoncial (toroidal) angular momentum $p_\\varphi$"
   ]
  },
  {
   "cell_type": "code",
   "execution_count": 407,
   "metadata": {},
   "outputs": [],
   "source": [
    "gorilla_plot['gorilla_plot_nml']['filename_p_phi'] = 'p_phi.dat'"
   ]
  },
  {
   "cell_type": "markdown",
   "metadata": {},
   "source": [
    "##### Switch for parallel adiabatic invariant $J_{\\parallel}$"
   ]
  },
  {
   "cell_type": "code",
   "execution_count": 408,
   "metadata": {},
   "outputs": [],
   "source": [
    "gorilla_plot['gorilla_plot_nml']['boole_J_par'] = True\n",
    "\n",
    "if gorilla_plot['gorilla_plot_nml']['boole_J_par'] and (gorilla_plot['gorilla_plot_nml']['i_orbit_options'] == 3 or gorilla_plot['gorilla_plot_nml']['i_orbit_options'] == 4):\n",
    "    raise Exception('Invariances of motion are only for single orbits!')"
   ]
  },
  {
   "cell_type": "markdown",
   "metadata": {},
   "source": [
    "##### Filename for parallel adiabatic invariant $J_{\\parallel}$"
   ]
  },
  {
   "cell_type": "code",
   "execution_count": 409,
   "metadata": {},
   "outputs": [],
   "source": [
    "gorilla_plot['gorilla_plot_nml']['filename_J_par'] = 'J_par.dat'"
   ]
  },
  {
   "cell_type": "markdown",
   "metadata": {},
   "source": [
    "### Starting positions of particles and starting pitch parameter (i_orbit_options = 1,3)"
   ]
  },
  {
   "cell_type": "markdown",
   "metadata": {},
   "source": [
    "File (either for cylindrical or flux coordinates) is automatically chosen dependening on value of *coord_system* in `gorilla.inp`."
   ]
  },
  {
   "cell_type": "markdown",
   "metadata": {},
   "source": [
    "##### Filename for list of starting position(s) of particle(s) in cylindrical coordinates ($R$,$\\varphi$,$Z$) and pitch ($\\lambda$)"
   ]
  },
  {
   "cell_type": "code",
   "execution_count": 410,
   "metadata": {},
   "outputs": [],
   "source": [
    "gorilla_plot['gorilla_plot_nml']['filename_orbit_start_pos_rphiz'] = 'orbit_start_rphizlambda.dat'"
   ]
  },
  {
   "cell_type": "markdown",
   "metadata": {},
   "source": [
    "##### Filename for list of starting position(s) of particle(s) in symmetry flux coordinates ($s$,$\\vartheta$,$\\varphi$) and pitch ($\\lambda$)"
   ]
  },
  {
   "cell_type": "code",
   "execution_count": 411,
   "metadata": {},
   "outputs": [],
   "source": [
    "gorilla_plot['gorilla_plot_nml']['filename_orbit_start_pos_sthetaphi'] = 'orbit_start_sthetaphilambda.dat'"
   ]
  },
  {
   "cell_type": "markdown",
   "metadata": {},
   "source": [
    "### Starting positions of particles on drift surfaces (i_orbit_options = 2,4)"
   ]
  },
  {
   "cell_type": "markdown",
   "metadata": {},
   "source": [
    "##### Starting drift surface"
   ]
  },
  {
   "cell_type": "markdown",
   "metadata": {},
   "source": [
    "= $s$ for ($s$,$\\vartheta$,$\\varphi$)\n",
    "\n",
    "= $R$ for ($R$,$\\varphi$,$Z$)"
   ]
  },
  {
   "cell_type": "code",
   "execution_count": 412,
   "metadata": {},
   "outputs": [],
   "source": [
    "gorilla_plot['gorilla_plot_nml']['start_pos_x1_beg']  = 0.5"
   ]
  },
  {
   "cell_type": "markdown",
   "metadata": {},
   "source": [
    "##### End drift surface"
   ]
  },
  {
   "cell_type": "markdown",
   "metadata": {},
   "source": [
    "= $s$ for ($s$,$\\vartheta$,$\\varphi$)\n",
    "\n",
    "= $R$ for ($R$,$\\varphi$,$Z$)"
   ]
  },
  {
   "cell_type": "code",
   "execution_count": 413,
   "metadata": {},
   "outputs": [],
   "source": [
    "gorilla_plot['gorilla_plot_nml']['start_pos_x1_end']  = 0.9"
   ]
  },
  {
   "cell_type": "markdown",
   "metadata": {},
   "source": [
    "##### Number of drift surfaces in between start and end"
   ]
  },
  {
   "cell_type": "code",
   "execution_count": 414,
   "metadata": {},
   "outputs": [],
   "source": [
    "gorilla_plot['gorilla_plot_nml']['n_surfaces']  = 30"
   ]
  },
  {
   "cell_type": "markdown",
   "metadata": {},
   "source": [
    "##### Starting value for toroidal variable"
   ]
  },
  {
   "cell_type": "markdown",
   "metadata": {},
   "source": [
    "= $\\vartheta$ for ($s$,$\\vartheta$,$\\varphi$)\n",
    "\n",
    "= $\\varphi$ for ($R$,$\\varphi$,$Z$)"
   ]
  },
  {
   "cell_type": "code",
   "execution_count": 415,
   "metadata": {},
   "outputs": [],
   "source": [
    "gorilla_plot['gorilla_plot_nml']['start_pos_x2']  = 0.1"
   ]
  },
  {
   "cell_type": "markdown",
   "metadata": {},
   "source": [
    "##### Starting value for toroidal variable"
   ]
  },
  {
   "cell_type": "markdown",
   "metadata": {},
   "source": [
    "= $\\varphi$ for ($s$,$\\vartheta$,$\\varphi$)\n",
    "\n",
    "= $Z$ for ($R$,$\\varphi$,$Z$)"
   ]
  },
  {
   "cell_type": "code",
   "execution_count": 416,
   "metadata": {},
   "outputs": [],
   "source": [
    "gorilla_plot['gorilla_plot_nml']['start_pos_x3']  = 0.63"
   ]
  },
  {
   "cell_type": "markdown",
   "metadata": {},
   "source": [
    "##### Pitch parameter $\\lambda = v_{\\parallel} / v_{mod}$"
   ]
  },
  {
   "cell_type": "code",
   "execution_count": 417,
   "metadata": {},
   "outputs": [],
   "source": [
    "gorilla_plot['gorilla_plot_nml']['start_pitch_parameter']  = 0.2"
   ]
  },
  {
   "cell_type": "markdown",
   "metadata": {},
   "source": [
    "***\n",
    "## Saving the modified namelists"
   ]
  },
  {
   "cell_type": "markdown",
   "metadata": {},
   "source": [
    "Finally, we again save all our changes into (new) `.inp` file in the RUN folder which we created in *Initialization*."
   ]
  },
  {
   "cell_type": "code",
   "execution_count": 418,
   "metadata": {},
   "outputs": [],
   "source": [
    "gorilla.write(path_RUN + '/gorilla.inp', force= True)\n",
    "tetra_grid.write(path_RUN + '/tetra_grid.inp', force= True)\n",
    "gorilla_plot.write(path_RUN + '/gorilla_plot.inp', force= True)"
   ]
  },
  {
   "cell_type": "markdown",
   "metadata": {},
   "source": [
    "***\n",
    "\n",
    "## Starting positions"
   ]
  },
  {
   "cell_type": "markdown",
   "metadata": {},
   "source": [
    "If the orbit plotting option 1 or 3 is used, the starting position of the particle is taken from a separate file. This file contains the starting postion(s) of one or more particles and the starting pitch parameter(s). The coordinates which are used in this file are linked to the choosen coordinate system of GORILLA. "
   ]
  },
  {
   "cell_type": "code",
   "execution_count": 419,
   "metadata": {},
   "outputs": [],
   "source": [
    "if (gorilla_plot['gorilla_plot_nml']['i_orbit_options'] == 1 or gorilla_plot['gorilla_plot_nml']['i_orbit_options'] == 3 or True):\n",
    "    start_pos_1=[0.8,0.0,0.63,0.7]\n",
    "    start_pos_2=[0.6,0.0,0.63,0.7]\n",
    "    start_pos_3=[0.4,0.0,0.63,0.2]\n",
    "    start_pos=[start_pos_1,start_pos_2,start_pos_3]\n",
    "    if (gorilla['gorillanml']['coord_system'] == 1):\n",
    "        fileID = open(path_RUN + '/' + gorilla_plot['gorilla_plot_nml']['filename_orbit_start_pos_rphiz'],'w')\n",
    "        for row in start_pos:\n",
    "            fileID.write(\" \".join(map(lambda n: '%.8f'%n, row)))\n",
    "            fileID.write(\"\\n\")\n",
    "        fileID.close()\n",
    "    else:\n",
    "        fileID = open(path_RUN + '/' + gorilla_plot['gorilla_plot_nml']['filename_orbit_start_pos_sthetaphi'],'w')\n",
    "        for row in start_pos:\n",
    "            fileID.write(\" \".join(map(lambda n: '%.8f'%n, row)))\n",
    "            fileID.write(\"\\n\")\n",
    "        fileID.close()"
   ]
  },
  {
   "cell_type": "markdown",
   "metadata": {},
   "source": [
    "***\n",
    "\n",
    "## Execute GORILLA"
   ]
  },
  {
   "cell_type": "markdown",
   "metadata": {},
   "source": [
    "First, all necessary files need to be linked to the RUN folder. We assume here that the executable `test_gorilla_main.x` has already been build from the source files using *make*. The number that is displayed as output are return codes of *os*. A `0` indicates that the command has been executed without errors. Here, the code `256`  might be returned if the symbolic links were already created (you can ignore the error in this case)."
   ]
  },
  {
   "cell_type": "code",
   "execution_count": 420,
   "metadata": {},
   "outputs": [
    {
     "data": {
      "text/plain": [
       "0"
      ]
     },
     "execution_count": 420,
     "metadata": {},
     "output_type": "execute_result"
    }
   ],
   "source": [
    "os.system('ln -s ../../../test_gorilla_main.x .')\n",
    "os.system('ln -s ../../../MHD_EQUILIBRIA .')\n",
    "os.system('ln -s ../../../INPUT/field_divB0.inp .')\n",
    "os.system('ln -s ../../../INPUT/preload_for_SYNCH.inp .')"
   ]
  },
  {
   "cell_type": "markdown",
   "metadata": {},
   "source": [
    "Now we finally run the executable (or more specific its symbolic link in our RUN folder) `test_gorilla_main.x` from the UNIX-shell."
   ]
  },
  {
   "cell_type": "code",
   "execution_count": 421,
   "metadata": {},
   "outputs": [
    {
     "data": {
      "text/plain": [
       "0"
      ]
     },
     "execution_count": 421,
     "metadata": {},
     "output_type": "execute_result"
    }
   ],
   "source": [
    "os.system('./test_gorilla_main.x')"
   ]
  },
  {
   "cell_type": "markdown",
   "metadata": {},
   "source": [
    "Finally we return the path to the folder of the JUPYTER notebook."
   ]
  },
  {
   "cell_type": "code",
   "execution_count": 422,
   "metadata": {},
   "outputs": [
    {
     "name": "stdout",
     "output_type": "stream",
     "text": [
      "/afs/itp.tugraz.at/user/grassl_g/MT/GORILLA/JUPYTER\n",
      "/afs/itp.tugraz.at/user/grassl_g/MT/GORILLA/JUPYTER/../EXAMPLES/PYTHON_RUN/plot_poincare\n"
     ]
    }
   ],
   "source": [
    "os.chdir(path_script)\n",
    "print(os.getcwd())\n",
    "print(path_RUN)"
   ]
  },
  {
   "cell_type": "markdown",
   "metadata": {},
   "source": [
    "***\n",
    "\n",
    "## Create Plots"
   ]
  },
  {
   "cell_type": "markdown",
   "metadata": {},
   "source": [
    "For every created datafile one plot will be created. All plots will then be stored as .png files in the *data_plots* folder. For that we will make use of a few more standart utility packages: *numpy* and *matplotlib*"
   ]
  },
  {
   "cell_type": "code",
   "execution_count": 423,
   "metadata": {},
   "outputs": [],
   "source": [
    "import numpy as np\n",
    "import matplotlib as mpl\n",
    "import matplotlib.pyplot as plt\n",
    "mpl.rcdefaults()\n",
    "\n",
    "extension = '.png'"
   ]
  },
  {
   "cell_type": "markdown",
   "metadata": {},
   "source": [
    "The in following used read in functions need the relative path from the PYTHON script/JUPYTER notebook to the data files. Therefore we define the relative path to them."
   ]
  },
  {
   "cell_type": "code",
   "execution_count": 424,
   "metadata": {},
   "outputs": [],
   "source": [
    "path_script2RUN = '../EXAMPLES/PYTHON_RUN/plot_poincare'"
   ]
  },
  {
   "cell_type": "markdown",
   "metadata": {},
   "source": [
    "### Poincare plot for $\\varphi=0$"
   ]
  },
  {
   "cell_type": "code",
   "execution_count": 425,
   "metadata": {},
   "outputs": [],
   "source": [
    "if (gorilla_plot['gorilla_plot_nml']['boole_poincare_phi_0']):\n",
    "\n",
    "    poincare_rphiz = np.genfromtxt(path_script2RUN + '/' + gorilla_plot['gorilla_plot_nml']['filename_poincare_phi_0_rphiz'])\n",
    "    poincare_sthetaphi = np.genfromtxt(path_script2RUN + '/' + gorilla_plot['gorilla_plot_nml']['filename_poincare_phi_0_sthetaphi'])\n",
    "\n",
    "    fig1 = plt.figure()\n",
    "    plt.title('Poincaré cuts $v_{\\parallel} = 0$ in cylindrical coordinates')\n",
    "    plt.plot(poincare_rphiz[:,0],poincare_rphiz[:,2],'.')\n",
    "    plt.xlabel('R')\n",
    "    plt.ylabel('Z')\n",
    "    plt.tight_layout()\n",
    "    fig1.savefig(path_data_plots + '/poincare_phi_0_rphiz' + extension)\n",
    "    plt.show()\n",
    "\n",
    "    fig2 = plt.figure()\n",
    "    plt.title('Poincaré cuts $v_{\\parallel} = 0$ in flux coordinates')\n",
    "    plt.plot(poincare_sthetaphi[:,1],poincare_sthetaphi[:,0],'.')\n",
    "    plt.xlabel('theta')\n",
    "    plt.ylabel('s')\n",
    "    plt.tight_layout()\n",
    "    fig2.savefig(path_data_plots + '/poincare_phi_0_sthetaphi' +  extension)\n",
    "    plt.show()\n",
    "    "
   ]
  },
  {
   "cell_type": "markdown",
   "metadata": {},
   "source": [
    "### Poincare plot for $v_{\\parallel}=0$"
   ]
  },
  {
   "cell_type": "code",
   "execution_count": 426,
   "metadata": {},
   "outputs": [],
   "source": [
    "if (gorilla_plot['gorilla_plot_nml']['boole_poincare_vpar_0']):\n",
    "\n",
    "    poincare_rphiz = np.genfromtxt(path_script2RUN + '/' + gorilla_plot['gorilla_plot_nml']['filename_poincare_vpar_0_rphiz'])\n",
    "    poincare_sthetaphi = np.genfromtxt(path_script2RUN + '/' + gorilla_plot['gorilla_plot_nml']['filename_poincare_vpar_0_sthetaphi'])\n",
    "\n",
    "    fig1 = plt.figure()\n",
    "    plt.title('Poincaré cuts $v_{\\parallel} = 0$ in cylindrical coordinates')\n",
    "    plt.plot(poincare_rphiz[:,0],poincare_rphiz[:,2],'.')\n",
    "    plt.xlabel('R')\n",
    "    plt.ylabel('Z')\n",
    "    plt.tight_layout()\n",
    "    fig1.savefig(path_data_plots + '/poincare_vpar_0_rphiz' + extension)\n",
    "    plt.show()\n",
    "\n",
    "    fig2 = plt.figure()\n",
    "    plt.title('Poincaré cuts $v_{\\parallel} = 0$ in flux coordinates')\n",
    "    plt.plot(poincare_sthetaphi[:,1],poincare_sthetaphi[:,0],'.')\n",
    "    plt.xlabel('theta')\n",
    "    plt.ylabel('s')\n",
    "    plt.tight_layout()\n",
    "    fig2.savefig(path_data_plots + '/poincare_vpar_0_sthetaphi' +  extension)\n",
    "    plt.show()\n",
    "    "
   ]
  },
  {
   "cell_type": "markdown",
   "metadata": {},
   "source": [
    "### 3D plot in cartesian coordinates"
   ]
  },
  {
   "cell_type": "code",
   "execution_count": 428,
   "metadata": {},
   "outputs": [
    {
     "data": {
      "image/png": "[encoded data removed]",
      "text/plain": [
       "<Figure size 640x480 with 1 Axes>"
      ]
     },
     "metadata": {},
     "output_type": "display_data"
    }
   ],
   "source": [
    "if (gorilla_plot['gorilla_plot_nml']['boole_full_orbit']):\n",
    "\n",
    "    poincare_rphiz = np.genfromtxt(path_script2RUN + '/' + gorilla_plot['gorilla_plot_nml']['filename_full_orbit_rphiz'])\n",
    "    x = poincare_rphiz[:,0]*np.cos(poincare_rphiz[:,1])\n",
    "    y = poincare_rphiz[:,0]*np.sin(poincare_rphiz[:,1])\n",
    "    z = poincare_rphiz[:,2]\n",
    "\n",
    "    fig1 = plt.figure()\n",
    "    ax1 = fig1.add_subplot(projection='3d')\n",
    "    ax1.set_title('3D plot of particle orbits')\n",
    "    ax1.plot(x,y,z)\n",
    "    ax1.set_xlabel('x')\n",
    "    ax1.set_ylabel('y')\n",
    "    ax1.set_zlabel('z')\n",
    "    fig1.savefig(path_data_plots + '/full_orbit_xyz' + extension)\n",
    "    "
   ]
  }
 ],
 "metadata": {
  "interpreter": {
   "hash": "767d51c1340bd893661ea55ea3124f6de3c7a262a8b4abca0554b478b1e2ff90"
  },
  "kernelspec": {
   "display_name": "Python 3.9.2 64-bit",
   "language": "python",
   "name": "python3"
  },
  "language_info": {
   "codemirror_mode": {
    "name": "ipython",
    "version": 3
   },
   "file_extension": ".py",
   "mimetype": "text/x-python",
   "name": "python",
   "nbconvert_exporter": "python",
   "pygments_lexer": "ipython3",
   "version": "3.9.2"
  },
  "orig_nbformat": 4
 },
 "nbformat": 4,
 "nbformat_minor": 2
}
