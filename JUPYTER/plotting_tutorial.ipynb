{
 "cells": [
  {
   "cell_type": "markdown",
   "metadata": {},
   "source": [
    "# GORILLA plotting tutorial\n",
    "\n",
    "With the plotting option of GORILLA it is possible to compute and plot the orbit of a particle in a toroidal magnetic fusion device. For the visualization of the orbit, Poincare plots are used. The program also computes various constants of motion to check how the obtained results behave with respect to numerical accuracy.  \n",
    "\n",
    "This tutorial guides through different input options of the code and shows a way how to execute the code with PYTHON. In principle one could change the repective options in the namelist-files like 'gorilla.inp' or 'tetra_grid.inp' per hand and then start the main executable 'test_gorilla-main.x'. However, here we will show how one can instead control these options dynamically in a PYTHON script using the the *f90nml*-namelist package.\n",
    "\n",
    "***\n",
    "\n",
    "## Preliminary: Using *f90nml* and *os* to alter namelists\n",
    "\n",
    "First we load the *f90nml* package after installing it e.g. using pip. Additionally we load the default module *os* (this is used to execute shell commands in PYTHON such as getting the current working directory path, creating folders and starting the main executable of GORILLA)."
   ]
  },
  {
   "cell_type": "code",
   "execution_count": 9,
   "metadata": {},
   "outputs": [
    {
     "name": "stdout",
     "output_type": "stream",
     "text": [
      "/afs/itp.tugraz.at/user/grassl_g/MT/GORILLA/EXAMPLES/PYTHON_RUN/plot_poincare\n"
     ]
    }
   ],
   "source": [
    "import f90nml\n",
    "import os\n",
    "\n",
    "path_jupyter = os.getcwd()\n",
    "print(path_jupyter)"
   ]
  },
  {
   "cell_type": "markdown",
   "metadata": {},
   "source": [
    "The namelist `tetra_grid_nml` we want to look at in this example is located in the file `tetra_grid.inp`, which can be found in the *INPUT* folder. So we provide the correct path to that file and read it into a python dictionary. Make sure to set the *end_comma* property of the generated namelist-object to *True*."
   ]
  },
  {
   "cell_type": "code",
   "execution_count": 67,
   "metadata": {},
   "outputs": [
    {
     "name": "stdout",
     "output_type": "stream",
     "text": [
      "&tetra_grid_nml\n",
      "    n1 = 100,\n",
      "    n2 = 40,\n",
      "    n3 = 40,\n",
      "    grid_kind = 3,\n",
      "    g_file_filename = 'MHD_EQUILIBRIA/g_file_for_test',\n",
      "    convex_wall_filename = 'MHD_EQUILIBRIA/convex_wall_for_test.dat',\n",
      "    netcdf_filename = 'MHD_EQUILIBRIA/netcdf_file_for_test.nc',\n",
      "    boole_n_field_periods = .true.,\n",
      "    n_field_periods_manual = 1,\n",
      "    sfc_s_min = 0.1,\n",
      "    theta_geom_flux = 1,\n",
      "    theta0_at_xpoint = .true.,\n",
      "    boole_write_mesh_obj = .false.,\n",
      "    filename_mesh_rphiz = 'mesh_rphiz.obj',\n",
      "    filename_mesh_sthetaphi = 'mesh_sthetaphi.obj',\n",
      "/\n"
     ]
    }
   ],
   "source": [
    "filename= path_jupyter + '/../INPUT/tetra_grid.inp'\n",
    "tetra_grid = f90nml.read(filename)\n",
    "tetra_grid.end_comma = True\n",
    "print(tetra_grid)"
   ]
  },
  {
   "cell_type": "markdown",
   "metadata": {},
   "source": [
    "You can now access and change the values of the listed *key:value pairs* in that dictonary by first indexing the wanted namelist and then the keyname:"
   ]
  },
  {
   "cell_type": "code",
   "execution_count": 68,
   "metadata": {},
   "outputs": [
    {
     "name": "stdout",
     "output_type": "stream",
     "text": [
      "The current number of grid points n1 is 100\n",
      "The new value of n1 is 101\n"
     ]
    }
   ],
   "source": [
    "print('The current number of grid points n1 is ' + str(tetra_grid['tetra_grid_nml']['n1']))\n",
    "\n",
    "tetra_grid['tetra_grid_nml']['n1'] = 101\n",
    "\n",
    "print('The new value of n1 is ' + str(tetra_grid['tetra_grid_nml']['n1']))"
   ]
  },
  {
   "cell_type": "markdown",
   "metadata": {},
   "source": [
    "After we have altered the desired options, we write our changed namelist to a new namelist-file (this is done to preserve the comments in the original file as well as the default settings). The final file should be located in the same folder as the main excutable `test_gorilla_main.x` so that it can then properly acess the file."
   ]
  },
  {
   "cell_type": "code",
   "execution_count": 69,
   "metadata": {},
   "outputs": [],
   "source": [
    "new_filename = path_jupyter + '/../tetra_grid.inp'\n",
    "tetra_grid.write(new_filename, force = True);"
   ]
  },
  {
   "cell_type": "markdown",
   "metadata": {},
   "source": [
    "The commments in the original `.inp` file explain the different options of the namelist `tetra_grid_nml`. We now leave the created input-file as it is and will overwrite it later when covering the input files in detail.\n",
    "\n",
    "***\n",
    "\n",
    "## Initialization\n",
    "\n",
    "Assuming the proper packages (*f90nml* and *os*) are already loaded, the PYTHON code first needs to know where to find the used files. Therefore, it is necessary to specify some paths. \n",
    "\n",
    "For the here provided default values to work\n",
    "* the folder *GORILLA* must not have been changed\n",
    "* **the current working directory** has to be the folder of this JUPYTER notebook (check the print output of the next cell)\n",
    "* and the code cells of this section have to be executed in order. \n",
    "\n",
    "**If in doubt, restart the notebook to clear the working variables and to reset the current path to this notebook.**\n",
    " \n",
    "First, we get the current working directory:"
   ]
  },
  {
   "cell_type": "code",
   "execution_count": 3,
   "metadata": {},
   "outputs": [
    {
     "name": "stdout",
     "output_type": "stream",
     "text": [
      "/afs/itp.tugraz.at/user/grassl_g/MT/GORILLA/JUPYTER\n"
     ]
    }
   ],
   "source": [
    "path_script = os.getcwd()\n",
    "#default: path_script= os.getcwd();\n",
    "print(path_script)"
   ]
  },
  {
   "cell_type": "markdown",
   "metadata": {},
   "source": [
    "The path of the main folder *GORILLA*:"
   ]
  },
  {
   "cell_type": "code",
   "execution_count": 2,
   "metadata": {},
   "outputs": [],
   "source": [
    "path_main = path_script + '/../'\n",
    "#default: path_main= path_script + '/../'"
   ]
  },
  {
   "cell_type": "markdown",
   "metadata": {},
   "source": [
    "Next, the path where the FORTRAN code should be executed. Here we create a new clean RUN folder for that. Note that the explicit shell commands depend on the used operating system."
   ]
  },
  {
   "cell_type": "code",
   "execution_count": 4,
   "metadata": {},
   "outputs": [],
   "source": [
    "path_RUN = path_main + '/EXAMPLES/PYTHON_RUN/plot_poincare'\n",
    "#default path_RUN= path_main + '/EXAMPLES/PYTHON_RUN/plot_poincare'\n",
    "\n",
    "if not os.path.exists(path_RUN):\n",
    "  os.makedirs(path_RUN)\n",
    "\n",
    "os. chdir(path_RUN)\n",
    "if os.listdir('../plot_poincare/'):\n",
    "  os.system('rm -r ../plot_poincare/*')"
   ]
  },
  {
   "cell_type": "markdown",
   "metadata": {},
   "source": [
    "In the *INPUT* folder the input files for the GORILLA code are already prepared. All input variables have a default value. These input files will be loaded into the PYTHON script later on."
   ]
  },
  {
   "cell_type": "code",
   "execution_count": 5,
   "metadata": {},
   "outputs": [],
   "source": [
    "path_inp_files = path_main + '/INPUT'\n",
    "#default path_inp_files= path_main + '/INPUT';"
   ]
  },
  {
   "cell_type": "markdown",
   "metadata": {},
   "source": [
    "The created files during this run will be stored in a seperated folder. Here we create it in the same directory as the JUPYTER notebook."
   ]
  },
  {
   "cell_type": "code",
   "execution_count": 6,
   "metadata": {},
   "outputs": [],
   "source": [
    "name_folder ='/data_plots/plot_poincare'\n",
    "path_data_plots = path_script + name_folder\n",
    "\n",
    "if not os.path.exists(path_data_plots):\n",
    "  os.makedirs(path_data_plots)"
   ]
  },
  {
   "cell_type": "markdown",
   "metadata": {},
   "source": [
    "\n",
    "***\n",
    "\n",
    "## Loading the namelists\n",
    "\n",
    "The *GORILLA* code requires some input files. All possible options for the code can be set in these files. In the INPUT folder, there are already default input files. In these files one can also find short explanations for ervery variable. In this script all input files will be loaded. The general way of working with the namelists in these input files using *f90nml* is explained in the preliminary at the top of this notebook."
   ]
  },
  {
   "cell_type": "code",
   "execution_count": 10,
   "metadata": {},
   "outputs": [],
   "source": [
    "gorilla = f90nml.read(path_inp_files + '/gorilla.inp')\n",
    "gorilla.end_comma = True\n",
    "gorilla_plot = f90nml.read(path_inp_files + '/gorilla_plot.inp')\n",
    "gorilla_plot.end_comma = True\n",
    "tetra_grid = f90nml.read(path_inp_files + '/tetra_grid.inp')\n",
    "tetra_grid.end_comma = True"
   ]
  },
  {
   "cell_type": "markdown",
   "metadata": {},
   "source": [
    "\n",
    "***\n",
    "\n",
    "## Input file gorilla.inp\n",
    "\n",
    "### Electrostatic potential\n",
    "\n",
    "Change in the electrostatic potential within the plasma volume in Gaussian units "
   ]
  },
  {
   "cell_type": "code",
   "execution_count": 13,
   "metadata": {},
   "outputs": [],
   "source": [
    "gorilla['gorillanml']['eps_Phi'] = 0"
   ]
  },
  {
   "cell_type": "markdown",
   "metadata": {},
   "source": [
    "### Coordinate system\n",
    "\n",
    "1 ... ($R$,$\\varphi$,$Z$) cylindrical coordinate system\n",
    "\n",
    "2 ... ($s$,$\\vartheta$,$\\varphi$) symmetry flux coordinate system "
   ]
  },
  {
   "cell_type": "code",
   "execution_count": 15,
   "metadata": {},
   "outputs": [],
   "source": [
    "gorilla['gorillanml']['coord_system'] = 2"
   ]
  },
  {
   "cell_type": "markdown",
   "metadata": {},
   "source": [
    "### Particle species\n",
    "\n",
    "1 ... electron\n",
    "\n",
    "2 ... deuterium ion\n",
    "\n",
    "3 ... alpha particle"
   ]
  },
  {
   "cell_type": "code",
   "execution_count": 16,
   "metadata": {},
   "outputs": [],
   "source": [
    "gorilla['gorillanml']['ispecies'] = 1"
   ]
  },
  {
   "cell_type": "markdown",
   "metadata": {},
   "source": [
    "### Periodic coordinate particle re-location\n",
    "\n",
    "*True* ... Particles are re-located at initialization in the case of a periodic coordinate, if they are outside the computation domain.\n",
    "\n",
    "*False* .. Particles are not re-located at initialization (This might lead to error if particles are outside the computation domain)"
   ]
  },
  {
   "cell_type": "code",
   "execution_count": 17,
   "metadata": {},
   "outputs": [],
   "source": [
    "gorilla['gorillanml']['boole_periodic_relocation'] = True"
   ]
  },
  {
   "cell_type": "markdown",
   "metadata": {},
   "source": [
    "### GORILLA pusher options\n",
    "\n",
    "1 ... numerical RK pusher\n",
    "\n",
    "2 ... polynomial pusher"
   ]
  },
  {
   "cell_type": "code",
   "execution_count": 18,
   "metadata": {},
   "outputs": [],
   "source": [
    "gorilla['gorillanml']['ipusher'] = 2"
   ]
  },
  {
   "cell_type": "markdown",
   "metadata": {},
   "source": [
    "### Numerical pusher options\n",
    "\n",
    "##### accuracy for integration step\n",
    "\n",
    "*False* ... RK4\n",
    "\n",
    "*True* ... adaptive ODE45"
   ]
  },
  {
   "cell_type": "code",
   "execution_count": 19,
   "metadata": {},
   "outputs": [],
   "source": [
    "gorilla['gorillanml']['boole_pusher_ode45'] = False"
   ]
  },
  {
   "cell_type": "markdown",
   "metadata": {},
   "source": [
    "##### ODE45 relative accuracy (pusher orbit)"
   ]
  },
  {
   "cell_type": "code",
   "execution_count": 20,
   "metadata": {},
   "outputs": [],
   "source": [
    "gorilla['gorillanml']['rel_err_ode45'] = 1e-8"
   ]
  },
  {
   "cell_type": "markdown",
   "metadata": {},
   "source": [
    "##### Physical time - orbit parameter relation\n",
    "\n",
    "*False* ... $dt/d\\tau$ is a linear function of position in each tetrahedron\n",
    "\n",
    "*True* ... $dt/d\\tau$ is a constant averaged quantity in each tetrahedron"
   ]
  },
  {
   "cell_type": "code",
   "execution_count": 21,
   "metadata": {},
   "outputs": [],
   "source": [
    "gorilla['gorillanml']['boole_dt_tau'] = True"
   ]
  },
  {
   "cell_type": "markdown",
   "metadata": {},
   "source": [
    "##### Precomputation for Newton iterations\n",
    "\n",
    "*False* ... Compute coefficients for 2nd order polynomial solution (Newton velocity and acceleration) in each tetrahedron ($dzd\\tau$) without precomputation\n",
    "\n",
    "*True* ... Use precomputation of coefficients for 2nd order polynomial solution (Newton velocity and acceleration)"
   ]
  },
  {
   "cell_type": "code",
   "execution_count": 22,
   "metadata": {},
   "outputs": [],
   "source": [
    "gorilla['gorillanml']['boole_newton_precalc'] = False"
   ]
  },
  {
   "cell_type": "markdown",
   "metadata": {},
   "source": [
    "### Polynomial pusher options\n",
    "\n",
    "##### Polynomial order for orbit pusher"
   ]
  },
  {
   "cell_type": "code",
   "execution_count": 23,
   "metadata": {},
   "outputs": [],
   "source": [
    "gorilla['gorillanml']['poly_order'] = 4"
   ]
  },
  {
   "cell_type": "markdown",
   "metadata": {},
   "source": [
    "##### Settings for precomputation of coefficients\n",
    "\n",
    "0 ... No precomputation: All coefficients are computed on the fly (power of matrices)\n",
    "\n",
    "1 ... Precomputation of coefficients and factorization of powers of $v_{\\perp}$\n",
    "\n",
    "2 ... Same as 1 but with further precomputation of operatorb in $b$\n",
    "\n",
    "3 ... Extended precomputation of coefficients for constant $v_{\\perp}$\n",
    "\n",
    "(Precomputation is done for each tetrahedron for constant perpinv) NOT IMPLEMENTED YET"
   ]
  },
  {
   "cell_type": "code",
   "execution_count": 24,
   "metadata": {},
   "outputs": [],
   "source": [
    "gorilla['gorillanml']['i_precomp'] = 0"
   ]
  },
  {
   "cell_type": "markdown",
   "metadata": {},
   "source": [
    "##### Face prediction with 2nd order polynomial\n",
    "\n",
    "*True* ... Face guessing algorithm is used\n",
    "\n",
    "*False* ... NOT used"
   ]
  },
  {
   "cell_type": "code",
   "execution_count": 25,
   "metadata": {},
   "outputs": [],
   "source": [
    "gorilla['gorillanml']['boole_guess'] = True"
   ]
  },
  {
   "cell_type": "markdown",
   "metadata": {},
   "source": [
    "### Processing of particle handover to tetrahedron neighbour\n",
    "\n",
    "1 ... Processing with special treatment of periodic boundaries and manipulation of periodic position values\n",
    "\n",
    "2 ... Position exchange via Cartesian variables (skew_coordinates) - Necessary precomputation is included"
   ]
  },
  {
   "cell_type": "code",
   "execution_count": 26,
   "metadata": {},
   "outputs": [],
   "source": [
    "gorilla['gorillanml']['handover_processing_kind'] = 1"
   ]
  },
  {
   "cell_type": "markdown",
   "metadata": {},
   "source": [
    "### Noise on axisymmetric electromagnetic field (Tokamak)\n",
    "\n",
    "##### Add axisymmetric noise to vector potential $A_k$\n",
    "\n",
    "*True* ... Add axisymmetric random noise ($\\xi$ = 0 ... 1) to the co-variant component of the vector potential $A_k$\n",
    "\n",
    "$A_k' = A_k(1 + \\epsilon{}_A\\xi)$\n",
    "\n",
    "*False* ... Add no axisymmetric noise to $A_k$"
   ]
  },
  {
   "cell_type": "code",
   "execution_count": 27,
   "metadata": {},
   "outputs": [],
   "source": [
    "gorilla['gorillanml']['boole_axi_noise_vector_pot'] = False"
   ]
  },
  {
   "cell_type": "markdown",
   "metadata": {},
   "source": [
    "##### Relative Magnitude of axisymmetric random noise $\\epsilon{}_A$ of vector potential"
   ]
  },
  {
   "cell_type": "code",
   "execution_count": 28,
   "metadata": {},
   "outputs": [],
   "source": [
    "gorilla['gorillanml']['axi_noise_eps_A'] = 1e-1"
   ]
  },
  {
   "cell_type": "markdown",
   "metadata": {},
   "source": [
    "##### Add axisymmetric noise to electrostatic potential $\\phi$\n",
    "\n",
    "*True* ... Add axisymmetric random noise ($\\xi$ = 0 ... 1) to the electrostatic potential $\\phi$\n",
    "\n",
    "$\\phi' = \\phi(1 + \\epsilon{}_{\\phi}\\xi)$\n",
    "\n",
    "*False* ... Add no axisymmetric noise to $\\phi$"
   ]
  },
  {
   "cell_type": "code",
   "execution_count": 29,
   "metadata": {},
   "outputs": [],
   "source": [
    "gorilla['gorillanml']['boole_axi_noise_elec_pot'] = False"
   ]
  },
  {
   "cell_type": "markdown",
   "metadata": {},
   "source": [
    "##### Relative Magnitude of axisymmetric random noise $\\epsilon{}_{\\phi}$ of electrostatic potential"
   ]
  },
  {
   "cell_type": "code",
   "execution_count": 30,
   "metadata": {},
   "outputs": [],
   "source": [
    "gorilla['gorillanml']['axi_noise_eps_Phi'] = 3e-1"
   ]
  },
  {
   "cell_type": "markdown",
   "metadata": {},
   "source": [
    "##### Add non-axisymmetric noise to vector potential $A_k$"
   ]
  },
  {
   "cell_type": "code",
   "execution_count": 31,
   "metadata": {},
   "outputs": [],
   "source": [
    "gorilla['gorillanml']['boole_non_axi_noise_vector_pot'] = False"
   ]
  },
  {
   "cell_type": "markdown",
   "metadata": {},
   "source": [
    "##### Relative Magnitude of non-axisymmetric random noise $\\epsilon{}_A$ of vector potential"
   ]
  },
  {
   "cell_type": "code",
   "execution_count": 32,
   "metadata": {},
   "outputs": [],
   "source": [
    "gorilla['gorillanml']['non_axi_noise_eps_A'] = 1e-4"
   ]
  },
  {
   "cell_type": "markdown",
   "metadata": {},
   "source": [
    "### Harmonic perturbation on axisymmetric electromagnetic field\n",
    "\n",
    "##### Add helical harmonic perturbation of $A_{\\varphi}$\n",
    "\n",
    "*False* ... no perturbation\n",
    "\n",
    "*True* ... helical perbutation on:\n",
    "\n",
    "$A_{\\varphi}' = A_{\\varphi} + A_{\\varphi}* \\epsilon{}_{A_{\\varphi}}^{helical} * \\cos{(m_{fourier}*\\vartheta +n_{fourier}*\\varphi)}$"
   ]
  },
  {
   "cell_type": "code",
   "execution_count": 33,
   "metadata": {},
   "outputs": [],
   "source": [
    "gorilla['gorillanml']['boole_helical_pert'] = False"
   ]
  },
  {
   "cell_type": "markdown",
   "metadata": {},
   "source": [
    "##### Amplitude of helical harmonic perturbation $\\epsilon{}_{A_{\\varphi}}^{helical}$"
   ]
  },
  {
   "cell_type": "code",
   "execution_count": 35,
   "metadata": {},
   "outputs": [],
   "source": [
    "gorilla['gorillanml']['helical_pert_eps_Aphi'] = 1e-1"
   ]
  },
  {
   "cell_type": "markdown",
   "metadata": {},
   "source": [
    "##### Fourier modes ($m_{fourier}$, $n_{fourier}$) of helical perturbation "
   ]
  },
  {
   "cell_type": "code",
   "execution_count": 36,
   "metadata": {},
   "outputs": [],
   "source": [
    "gorilla['gorillanml']['helical_pert_m_fourier'] = 2\n",
    "gorilla['gorillanml']['helical_pert_n_fourier'] = 2"
   ]
  },
  {
   "cell_type": "markdown",
   "metadata": {},
   "source": [
    "\n",
    "***\n",
    "\n",
    "## Input file tetra_grid.inp\n",
    "\n",
    "### Grid size\n",
    "\n",
    "Rectangular: $n_R$, Field-aligned: $n_s$"
   ]
  },
  {
   "cell_type": "code",
   "execution_count": 37,
   "metadata": {},
   "outputs": [],
   "source": [
    "tetra_grid['tetra_grid_nml']['n1'] = 100"
   ]
  },
  {
   "cell_type": "markdown",
   "metadata": {},
   "source": [
    "Rectangular: $n_{\\varphi}$, Field-aligned: $n_{\\varphi}$ "
   ]
  },
  {
   "cell_type": "code",
   "execution_count": 38,
   "metadata": {},
   "outputs": [],
   "source": [
    "tetra_grid['tetra_grid_nml']['n2'] = 40"
   ]
  },
  {
   "cell_type": "markdown",
   "metadata": {},
   "source": [
    "Rectangular: $n_Z$, Field-aligned: $n_{\\vartheta}$"
   ]
  },
  {
   "cell_type": "code",
   "execution_count": 39,
   "metadata": {},
   "outputs": [],
   "source": [
    "tetra_grid['tetra_grid_nml']['n3'] = 40"
   ]
  },
  {
   "cell_type": "markdown",
   "metadata": {},
   "source": [
    "### Grid kind\n",
    "\n",
    "1 ... rectangular grid for axisymmetric EFIT data (g-file)\n",
    "\n",
    "2 ... field-aligned grid for axisymmetric EFIT data (g-file)\n",
    "\n",
    "3 ... field-aligned grid for non-axisymmetric VMEC (netcdf)"
   ]
  },
  {
   "cell_type": "code",
   "execution_count": 40,
   "metadata": {},
   "outputs": [],
   "source": [
    "tetra_grid['tetra_grid_nml']['grid_kind'] = 3"
   ]
  },
  {
   "cell_type": "markdown",
   "metadata": {},
   "source": []
  },
  {
   "cell_type": "code",
   "execution_count": 71,
   "metadata": {},
   "outputs": [],
   "source": []
  },
  {
   "cell_type": "markdown",
   "metadata": {},
   "source": [
    "***"
   ]
  },
  {
   "cell_type": "markdown",
   "metadata": {},
   "source": [
    "\n",
    "## Source files of fields\n",
    "\n",
    "*GORILLA* needs the electromagnetic fields as input to perform the trajectory integration. Additionally, the fields are also needed to generate the field-aligned grid. Therefore the corresponding **MHD equilibrium filenames** are provided via the namelist."
   ]
  },
  {
   "cell_type": "code",
   "execution_count": 72,
   "metadata": {},
   "outputs": [],
   "source": [
    "tetra_grid['tetra_grid_nml']['g_file_filename'] = 'MHD_EQUILIBRIA/g_file_for_test' \n",
    "tetra_grid['tetra_grid_nml']['convex_wall_filename'] = 'MHD_EQUILIBRIA/convex_wall_for_test.dat' \n",
    "tetra_grid['tetra_grid_nml']['netcdf_filename'] = 'MHD_EQUILIBRIA/netcdf_file_for_test.nc' "
   ]
  },
  {
   "cell_type": "markdown",
   "metadata": {},
   "source": [
    "***"
   ]
  },
  {
   "cell_type": "markdown",
   "metadata": {},
   "source": [
    "\n",
    "## Advanced grid options\n",
    "\n",
    "By default the **periods of the field** is determined automatically by *GORILLA*. However, it may be also set manually."
   ]
  },
  {
   "cell_type": "code",
   "execution_count": 73,
   "metadata": {},
   "outputs": [],
   "source": [
    "#True ... number of field periods is selected automatically (Tokamak = 1, Stellarator depending on VMEC equilibrium)\n",
    "#False ... number of field periods is selected manually (see below)\n",
    "tetra_grid['tetra_grid_nml']['boole_n_field_periods'] = True \n",
    "\n",
    "#Number of field periods (manual)\n",
    "tetra_grid['tetra_grid_nml']['n_field_periods_manual'] = 1"
   ]
  },
  {
   "cell_type": "markdown",
   "metadata": {},
   "source": [
    "During the generation of the field aligned grid with Symmetry Flux Coodinates, a small region around the magnetic axis is left out, due to insufficient precission of conversion functions for this region. The grid is therefore only generated down to a **minimal value of the flux fluxcoordinate s**."
   ]
  },
  {
   "cell_type": "code",
   "execution_count": 74,
   "metadata": {},
   "outputs": [],
   "source": [
    "tetra_grid['tetra_grid_nml']['sfc_s_min'] = 0.1"
   ]
  },
  {
   "cell_type": "markdown",
   "metadata": {},
   "source": [
    "By default the aligned grid is generated by having equidistant points in SFC (s,$\\vartheta$,$\\phi$). However, for the flux poloidal angle $\\vartheta$ there is the option to have the points **equidistant in terms of the geometrical poloidal angle $\\theta$** instead. This avoids undesired deformations of the grid in real space."
   ]
  },
  {
   "cell_type": "code",
   "execution_count": 75,
   "metadata": {},
   "outputs": [],
   "source": [
    "#1 ... theta scaling in symmetry flux coordinates\n",
    "#2 ... theta scaling in geometrical theta angle\n",
    "tetra_grid['tetra_grid_nml']['theta_geom_flux'] = 1"
   ]
  },
  {
   "cell_type": "markdown",
   "metadata": {},
   "source": [
    "No matter which option is chosen, an **origin for the poloidal angle variable** has to be set. Either the angle is measured from the line between magnetic axis and X-point of the magnetic field or just from the right horizontal going out from the magnetic axis."
   ]
  },
  {
   "cell_type": "code",
   "execution_count": 76,
   "metadata": {},
   "outputs": [],
   "source": [
    "#True $\\theta$-variable starts at the line between O- and X-Point\n",
    "#False $\\theta$-variable starts at the line between O-Point and intersection between O-Point-[1,0]-straight-line and separatrix\n",
    "tetra_grid['tetra_grid_nml']['theta0_at_xpoint'] = True"
   ]
  },
  {
   "cell_type": "markdown",
   "metadata": {},
   "source": [
    "***"
   ]
  },
  {
   "cell_type": "markdown",
   "metadata": {},
   "source": [
    "\n",
    "## Save generated grid as object files\n",
    "\n",
    "*GORILLA* generates the grid (vertex positions plus assignment to the tetrahedra) everytime the executable is called. It therefore only exists temporary during runtime. The last settings of `tetra_grid_nml` allow to **save the generated grid** into specified object files."
   ]
  },
  {
   "cell_type": "code",
   "execution_count": 77,
   "metadata": {},
   "outputs": [],
   "source": [
    "#Switch for writing object file with mesh data\n",
    "tetra_grid['tetra_grid_nml']['boole_write_mesh_obj'] = False\n",
    "\n",
    "#Filename for mesh object file in cylindrical coordintes\n",
    "tetra_grid['tetra_grid_nml']['filename_mesh_rphiz'] = 'mesh_rphiz.obj' \n",
    "\n",
    "#Filename for mesh object file in symmetry flux coordintes\n",
    "tetra_grid['tetra_grid_nml']['filename_mesh_sthetaphi'] = 'mesh_sthetaphi.obj' "
   ]
  },
  {
   "cell_type": "markdown",
   "metadata": {},
   "source": [
    "Finally, we again save all our changes into the `.inp` file which will be used by *GORILLA*."
   ]
  },
  {
   "cell_type": "code",
   "execution_count": 78,
   "metadata": {},
   "outputs": [],
   "source": [
    "tetra_grid.write(new_filename, force= True);"
   ]
  }
 ],
 "metadata": {
  "interpreter": {
   "hash": "767d51c1340bd893661ea55ea3124f6de3c7a262a8b4abca0554b478b1e2ff90"
  },
  "kernelspec": {
   "display_name": "Python 3.9.2 64-bit",
   "language": "python",
   "name": "python3"
  },
  "language_info": {
   "codemirror_mode": {
    "name": "ipython",
    "version": 3
   },
   "file_extension": ".py",
   "mimetype": "text/x-python",
   "name": "python",
   "nbconvert_exporter": "python",
   "pygments_lexer": "ipython3",
   "version": "3.9.2"
  },
  "orig_nbformat": 4
 },
 "nbformat": 4,
 "nbformat_minor": 2
}
