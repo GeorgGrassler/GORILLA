{
 "cells": [
  {
   "cell_type": "markdown",
   "metadata": {},
   "source": [
    "## Main configurations for *GORILLA*\n",
    "\n",
    "In this notebook we look over some global settings for *GORILLA*. The main executable `test_gorilla_main.x` takes as input for these general options the fortran namelist provided in the `gorilla.inp` file. We will again employ the *f90nml* PYTHON package to load and modify this namelist."
   ]
  },
  {
   "cell_type": "code",
   "execution_count": 4,
   "metadata": {},
   "outputs": [
    {
     "name": "stdout",
     "output_type": "stream",
     "text": [
      "&gorillanml\n",
      "    eps_phi = 0.0,\n",
      "    coord_system = 2,\n",
      "    ispecies = 1,\n",
      "    boole_periodic_relocation = .true.,\n",
      "    ipusher = 2,\n",
      "    boole_pusher_ode45 = .false.,\n",
      "    rel_err_ode45 = 1e-08,\n",
      "    boole_dt_dtau = .true.,\n",
      "    boole_newton_precalc = .false.,\n",
      "    poly_order = 2,\n",
      "    i_precomp = 0,\n",
      "    boole_guess = .true.,\n",
      "    handover_processing_kind = 1,\n",
      "    boole_axi_noise_vector_pot = .false.,\n",
      "    axi_noise_eps_a = 0.1,\n",
      "    boole_axi_noise_elec_pot = .false.,\n",
      "    axi_noise_eps_phi = 0.3,\n",
      "    boole_non_axi_noise_vector_pot = .false.,\n",
      "    non_axi_noise_eps_a = 0.0001,\n",
      "    boole_helical_pert = .false.,\n",
      "    helical_pert_eps_aphi = 0.1,\n",
      "    helical_pert_m_fourier = 2,\n",
      "    helical_pert_n_fourier = 2,\n",
      "/\n"
     ]
    }
   ],
   "source": [
    "import f90nml\n",
    "import os\n",
    "\n",
    "path_jupyter = os.getcwd()\n",
    "\n",
    "filename= path_jupyter + '/../INPUT/gorilla.inp'\n",
    "gorilla = f90nml.read(filename)\n",
    "gorilla.end_comma = True\n",
    "print(gorilla)"
   ]
  },
  {
   "cell_type": "markdown",
   "metadata": {},
   "source": [
    "***\n",
    "\n",
    "## Electrostatic potential and coordinate system\n",
    "\n",
    "The main focus of *GORILLA* lies in the orbit integration in presence of quasistatic magnetic fields, but it is also possible to include (weak) **electrostatic potentials** as well."
   ]
  },
  {
   "cell_type": "code",
   "execution_count": 5,
   "metadata": {},
   "outputs": [],
   "source": [
    "gorilla['gorillanml']['eps_phi'] = 0.0 #in Gaussian units -> 1.d-6"
   ]
  },
  {
   "cell_type": "markdown",
   "metadata": {},
   "source": [
    "You can now access and change the values of the listed *key:value pairs* in that dictonary by first indexing the wanted namelist and then the keyname:"
   ]
  },
  {
   "cell_type": "code",
   "execution_count": 68,
   "metadata": {},
   "outputs": [
    {
     "name": "stdout",
     "output_type": "stream",
     "text": [
      "The current number of grid points n1 is 100\n",
      "The new value of n1 is 101\n"
     ]
    }
   ],
   "source": [
    "print('The current number of grid points n1 is ' + str(tetra_grid['tetra_grid_nml']['n1']))\n",
    "\n",
    "tetra_grid['tetra_grid_nml']['n1'] = 101\n",
    "\n",
    "print('The new value of n1 is ' + str(tetra_grid['tetra_grid_nml']['n1']))"
   ]
  },
  {
   "cell_type": "markdown",
   "metadata": {},
   "source": [
    "After we have altered the desired options, we write our changed namelist to a new namelist-file (this is done to preserve the comments in the original file as well as the default settings). The final file should be located in the same folder as the main excutable `test_gorilla_main.x` so that it can then properly acess the file."
   ]
  },
  {
   "cell_type": "code",
   "execution_count": 69,
   "metadata": {},
   "outputs": [],
   "source": [
    "new_filename = path_jupyter + '/../tetra_grid.inp'\n",
    "tetra_grid.write(new_filename, force = True);"
   ]
  },
  {
   "cell_type": "markdown",
   "metadata": {},
   "source": [
    "The commments in the original `.inp` file explain the different options of the namelist `tetra_grid_nml`. We will cover them now step by step.\n",
    "\n",
    "***\n",
    "\n",
    "## Basic grid options\n",
    "\n",
    "The first three entries specify the **number of grid points** for the different coordinate directions."
   ]
  },
  {
   "cell_type": "code",
   "execution_count": 70,
   "metadata": {},
   "outputs": [],
   "source": [
    "#Rectangular: nR, Field-aligned: ns\n",
    "tetra_grid['tetra_grid_nml']['n1'] = 100\n",
    "\n",
    "#Rectangular: nphi, Field-aligned: nphi \n",
    "tetra_grid['tetra_grid_nml']['n2'] = 40\n",
    "\n",
    "#Rectangular: nZ, Field-aligned: ntheta \n",
    "tetra_grid['tetra_grid_nml']['n3'] = 40"
   ]
  },
  {
   "cell_type": "markdown",
   "metadata": {},
   "source": [
    "Following that, the actual **grid kind** used can be changed."
   ]
  },
  {
   "cell_type": "code",
   "execution_count": 71,
   "metadata": {},
   "outputs": [],
   "source": [
    "#1 ... rectangular grid for axisymmetric EFIT data (g-file)\n",
    "#2 ... field-aligned grid for axisymmetric EFIT data (g-file)\n",
    "#3 ... field-aligned grid for non-axisymmetric VMEC (netcdf)\n",
    "tetra_grid['tetra_grid_nml']['grid_kind'] = 3"
   ]
  },
  {
   "cell_type": "markdown",
   "metadata": {},
   "source": [
    "***"
   ]
  },
  {
   "cell_type": "markdown",
   "metadata": {},
   "source": [
    "\n",
    "## Source files of fields\n",
    "\n",
    "*GORILLA* needs the electromagnetic fields as input to perform the trajectory integration. Additionally, the fields are also needed to generate the field-aligned grid. Therefore the corresponding **MHD equilibrium filenames** are provided via the namelist."
   ]
  },
  {
   "cell_type": "code",
   "execution_count": 72,
   "metadata": {},
   "outputs": [],
   "source": [
    "tetra_grid['tetra_grid_nml']['g_file_filename'] = 'MHD_EQUILIBRIA/g_file_for_test' \n",
    "tetra_grid['tetra_grid_nml']['convex_wall_filename'] = 'MHD_EQUILIBRIA/convex_wall_for_test.dat' \n",
    "tetra_grid['tetra_grid_nml']['netcdf_filename'] = 'MHD_EQUILIBRIA/netcdf_file_for_test.nc' "
   ]
  },
  {
   "cell_type": "markdown",
   "metadata": {},
   "source": [
    "***"
   ]
  },
  {
   "cell_type": "markdown",
   "metadata": {},
   "source": [
    "\n",
    "## Advanced grid options\n",
    "\n",
    "By default the **periods of the field** is determined automatically by *GORILLA*. However, it may be also set manually."
   ]
  },
  {
   "cell_type": "code",
   "execution_count": 73,
   "metadata": {},
   "outputs": [],
   "source": [
    "#True ... number of field periods is selected automatically (Tokamak = 1, Stellarator depending on VMEC equilibrium)\n",
    "#False ... number of field periods is selected manually (see below)\n",
    "tetra_grid['tetra_grid_nml']['boole_n_field_periods'] = True \n",
    "\n",
    "#Number of field periods (manual)\n",
    "tetra_grid['tetra_grid_nml']['n_field_periods_manual'] = 1"
   ]
  },
  {
   "cell_type": "markdown",
   "metadata": {},
   "source": [
    "During the generation of the field aligned grid with Symmetry Flux Coodinates, a small region around the magnetic axis is left out, due to insufficient precission of conversion functions for this region. The grid is therefore only generated down to a **minimal value of the flux fluxcoordinate s**."
   ]
  },
  {
   "cell_type": "code",
   "execution_count": 74,
   "metadata": {},
   "outputs": [],
   "source": [
    "tetra_grid['tetra_grid_nml']['sfc_s_min'] = 0.1"
   ]
  },
  {
   "cell_type": "markdown",
   "metadata": {},
   "source": [
    "By default the aligned grid is generated by having equidistant points in SFC (s,$\\vartheta$,$\\phi$). However, for the flux poloidal angle $\\vartheta$ there is the option to have the points **equidistant in terms of the geometrical poloidal angle $\\theta$** instead. This avoids undesired deformations of the grid in real space."
   ]
  },
  {
   "cell_type": "code",
   "execution_count": 75,
   "metadata": {},
   "outputs": [],
   "source": [
    "#1 ... theta scaling in symmetry flux coordinates\n",
    "#2 ... theta scaling in geometrical theta angle\n",
    "tetra_grid['tetra_grid_nml']['theta_geom_flux'] = 1"
   ]
  },
  {
   "cell_type": "markdown",
   "metadata": {},
   "source": [
    "No matter which option is chosen, an **origin for the poloidal angle variable** has to be set. Either the angle is measured from the line between magnetic axis and X-point of the magnetic field or just from the right horizontal going out from the magnetic axis."
   ]
  },
  {
   "cell_type": "code",
   "execution_count": 76,
   "metadata": {},
   "outputs": [],
   "source": [
    "#True $\\theta$-variable starts at the line between O- and X-Point\n",
    "#False $\\theta$-variable starts at the line between O-Point and intersection between O-Point-[1,0]-straight-line and separatrix\n",
    "tetra_grid['tetra_grid_nml']['theta0_at_xpoint'] = True"
   ]
  },
  {
   "cell_type": "markdown",
   "metadata": {},
   "source": [
    "***"
   ]
  },
  {
   "cell_type": "markdown",
   "metadata": {},
   "source": [
    "\n",
    "## Save generated grid as object files\n",
    "\n",
    "*GORILLA* generates the grid (vertex positions plus assignment to the tetrahedra) everytime the executable is called. It therefore only exists temporary during runtime. The last settings of `tetra_grid_nml` allow to **save the generated grid** into specified object files."
   ]
  },
  {
   "cell_type": "code",
   "execution_count": 77,
   "metadata": {},
   "outputs": [],
   "source": [
    "#Switch for writing object file with mesh data\n",
    "tetra_grid['tetra_grid_nml']['boole_write_mesh_obj'] = False\n",
    "\n",
    "#Filename for mesh object file in cylindrical coordintes\n",
    "tetra_grid['tetra_grid_nml']['filename_mesh_rphiz'] = 'mesh_rphiz.obj' \n",
    "\n",
    "#Filename for mesh object file in symmetry flux coordintes\n",
    "tetra_grid['tetra_grid_nml']['filename_mesh_sthetaphi'] = 'mesh_sthetaphi.obj' "
   ]
  },
  {
   "cell_type": "markdown",
   "metadata": {},
   "source": [
    "Finally, we again save all our changes into the `.inp` file which will be used by *GORILLA*."
   ]
  },
  {
   "cell_type": "code",
   "execution_count": 78,
   "metadata": {},
   "outputs": [],
   "source": [
    "tetra_grid.write(new_filename, force= True);"
   ]
  }
 ],
 "metadata": {
  "interpreter": {
   "hash": "767d51c1340bd893661ea55ea3124f6de3c7a262a8b4abca0554b478b1e2ff90"
  },
  "kernelspec": {
   "display_name": "Python 3.9.2 64-bit",
   "language": "python",
   "name": "python3"
  },
  "language_info": {
   "codemirror_mode": {
    "name": "ipython",
    "version": 3
   },
   "file_extension": ".py",
   "mimetype": "text/x-python",
   "name": "python",
   "nbconvert_exporter": "python",
   "pygments_lexer": "ipython3",
   "version": "3.9.2"
  },
  "orig_nbformat": 4
 },
 "nbformat": 4,
 "nbformat_minor": 2
}
