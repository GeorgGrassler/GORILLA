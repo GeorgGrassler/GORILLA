{
 "cells": [
  {
   "cell_type": "markdown",
   "metadata": {},
   "source": [
    "# Options of the generated tetrahedra-grid\n",
    "\n",
    "In this notebook we look over the options for the generation of the interpolation grid. The main executable test_gorilla_main.x\n",
    "takes as input for the grid generation the fortran namelist provided in the tetra_grid.inp-file. One can per hand change the values\n",
    "of those namelist-variables directly and start the exectuable afterwards by hand."
   ]
  },
  {
   "cell_type": "markdown",
   "metadata": {},
   "source": [
    "However, via the the f90nml package one can control the grid-options in a python script which then allows to integrate GORILLA\n",
    "in existing python routines. This is what we will demonstrate here."
   ]
  },
  {
   "cell_type": "markdown",
   "metadata": {},
   "source": [
    "First we load the f90nml package."
   ]
  },
  {
   "cell_type": "code",
   "execution_count": null,
   "metadata": {},
   "outputs": [],
   "source": [
    "import f90nml"
   ]
  }
 ],
 "metadata": {
  "language_info": {
   "name": "python"
  },
  "orig_nbformat": 4
 },
 "nbformat": 4,
 "nbformat_minor": 2
}
